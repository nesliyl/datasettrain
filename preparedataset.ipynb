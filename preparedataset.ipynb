{
  "nbformat": 4,
  "nbformat_minor": 0,
  "metadata": {
    "colab": {
      "provenance": [],
      "machine_shape": "hm",
      "mount_file_id": "1cf1ITDF2HYbyv_WAWgu2GVYr9OIY8s99",
      "authorship_tag": "ABX9TyOEvEKjQ6LN/CJuBK+210cn",
      "include_colab_link": true
    },
    "kernelspec": {
      "name": "python3",
      "display_name": "Python 3"
    },
    "language_info": {
      "name": "python"
    },
    "widgets": {
      "application/vnd.jupyter.widget-state+json": {
        "5ef5ba24b2c24be5a6f80e762212e9ed": {
          "model_module": "@jupyter-widgets/controls",
          "model_name": "HBoxModel",
          "model_module_version": "1.5.0",
          "state": {
            "_dom_classes": [],
            "_model_module": "@jupyter-widgets/controls",
            "_model_module_version": "1.5.0",
            "_model_name": "HBoxModel",
            "_view_count": null,
            "_view_module": "@jupyter-widgets/controls",
            "_view_module_version": "1.5.0",
            "_view_name": "HBoxView",
            "box_style": "",
            "children": [
              "IPY_MODEL_a50617fc4a2c4cf792b20c8d299426ee",
              "IPY_MODEL_f5c4493582844214b2a96e66e6d8c32c",
              "IPY_MODEL_373b297b10894fa4819a945f2689f020"
            ],
            "layout": "IPY_MODEL_8e874ce3d6714dea8ad0800d9e0604da"
          }
        },
        "a50617fc4a2c4cf792b20c8d299426ee": {
          "model_module": "@jupyter-widgets/controls",
          "model_name": "HTMLModel",
          "model_module_version": "1.5.0",
          "state": {
            "_dom_classes": [],
            "_model_module": "@jupyter-widgets/controls",
            "_model_module_version": "1.5.0",
            "_model_name": "HTMLModel",
            "_view_count": null,
            "_view_module": "@jupyter-widgets/controls",
            "_view_module_version": "1.5.0",
            "_view_name": "HTMLView",
            "description": "",
            "description_tooltip": null,
            "layout": "IPY_MODEL_2702d468ef2c4bac9f0f0098d348ee4e",
            "placeholder": "​",
            "style": "IPY_MODEL_545577329fe54d9a98aec74e86682e17",
            "value": "tokenizer_config.json: 100%"
          }
        },
        "f5c4493582844214b2a96e66e6d8c32c": {
          "model_module": "@jupyter-widgets/controls",
          "model_name": "FloatProgressModel",
          "model_module_version": "1.5.0",
          "state": {
            "_dom_classes": [],
            "_model_module": "@jupyter-widgets/controls",
            "_model_module_version": "1.5.0",
            "_model_name": "FloatProgressModel",
            "_view_count": null,
            "_view_module": "@jupyter-widgets/controls",
            "_view_module_version": "1.5.0",
            "_view_name": "ProgressView",
            "bar_style": "success",
            "description": "",
            "description_tooltip": null,
            "layout": "IPY_MODEL_f05ff2274d1b45fc8d20c8569e4f8201",
            "max": 48,
            "min": 0,
            "orientation": "horizontal",
            "style": "IPY_MODEL_966759a0946247afa35437c983ea510c",
            "value": 48
          }
        },
        "373b297b10894fa4819a945f2689f020": {
          "model_module": "@jupyter-widgets/controls",
          "model_name": "HTMLModel",
          "model_module_version": "1.5.0",
          "state": {
            "_dom_classes": [],
            "_model_module": "@jupyter-widgets/controls",
            "_model_module_version": "1.5.0",
            "_model_name": "HTMLModel",
            "_view_count": null,
            "_view_module": "@jupyter-widgets/controls",
            "_view_module_version": "1.5.0",
            "_view_name": "HTMLView",
            "description": "",
            "description_tooltip": null,
            "layout": "IPY_MODEL_a737c949961d4de8ae1f484f054aea9b",
            "placeholder": "​",
            "style": "IPY_MODEL_357e5e79d3574a3287d9bc4bdddf941b",
            "value": " 48.0/48.0 [00:00&lt;00:00, 3.48kB/s]"
          }
        },
        "8e874ce3d6714dea8ad0800d9e0604da": {
          "model_module": "@jupyter-widgets/base",
          "model_name": "LayoutModel",
          "model_module_version": "1.2.0",
          "state": {
            "_model_module": "@jupyter-widgets/base",
            "_model_module_version": "1.2.0",
            "_model_name": "LayoutModel",
            "_view_count": null,
            "_view_module": "@jupyter-widgets/base",
            "_view_module_version": "1.2.0",
            "_view_name": "LayoutView",
            "align_content": null,
            "align_items": null,
            "align_self": null,
            "border": null,
            "bottom": null,
            "display": null,
            "flex": null,
            "flex_flow": null,
            "grid_area": null,
            "grid_auto_columns": null,
            "grid_auto_flow": null,
            "grid_auto_rows": null,
            "grid_column": null,
            "grid_gap": null,
            "grid_row": null,
            "grid_template_areas": null,
            "grid_template_columns": null,
            "grid_template_rows": null,
            "height": null,
            "justify_content": null,
            "justify_items": null,
            "left": null,
            "margin": null,
            "max_height": null,
            "max_width": null,
            "min_height": null,
            "min_width": null,
            "object_fit": null,
            "object_position": null,
            "order": null,
            "overflow": null,
            "overflow_x": null,
            "overflow_y": null,
            "padding": null,
            "right": null,
            "top": null,
            "visibility": null,
            "width": null
          }
        },
        "2702d468ef2c4bac9f0f0098d348ee4e": {
          "model_module": "@jupyter-widgets/base",
          "model_name": "LayoutModel",
          "model_module_version": "1.2.0",
          "state": {
            "_model_module": "@jupyter-widgets/base",
            "_model_module_version": "1.2.0",
            "_model_name": "LayoutModel",
            "_view_count": null,
            "_view_module": "@jupyter-widgets/base",
            "_view_module_version": "1.2.0",
            "_view_name": "LayoutView",
            "align_content": null,
            "align_items": null,
            "align_self": null,
            "border": null,
            "bottom": null,
            "display": null,
            "flex": null,
            "flex_flow": null,
            "grid_area": null,
            "grid_auto_columns": null,
            "grid_auto_flow": null,
            "grid_auto_rows": null,
            "grid_column": null,
            "grid_gap": null,
            "grid_row": null,
            "grid_template_areas": null,
            "grid_template_columns": null,
            "grid_template_rows": null,
            "height": null,
            "justify_content": null,
            "justify_items": null,
            "left": null,
            "margin": null,
            "max_height": null,
            "max_width": null,
            "min_height": null,
            "min_width": null,
            "object_fit": null,
            "object_position": null,
            "order": null,
            "overflow": null,
            "overflow_x": null,
            "overflow_y": null,
            "padding": null,
            "right": null,
            "top": null,
            "visibility": null,
            "width": null
          }
        },
        "545577329fe54d9a98aec74e86682e17": {
          "model_module": "@jupyter-widgets/controls",
          "model_name": "DescriptionStyleModel",
          "model_module_version": "1.5.0",
          "state": {
            "_model_module": "@jupyter-widgets/controls",
            "_model_module_version": "1.5.0",
            "_model_name": "DescriptionStyleModel",
            "_view_count": null,
            "_view_module": "@jupyter-widgets/base",
            "_view_module_version": "1.2.0",
            "_view_name": "StyleView",
            "description_width": ""
          }
        },
        "f05ff2274d1b45fc8d20c8569e4f8201": {
          "model_module": "@jupyter-widgets/base",
          "model_name": "LayoutModel",
          "model_module_version": "1.2.0",
          "state": {
            "_model_module": "@jupyter-widgets/base",
            "_model_module_version": "1.2.0",
            "_model_name": "LayoutModel",
            "_view_count": null,
            "_view_module": "@jupyter-widgets/base",
            "_view_module_version": "1.2.0",
            "_view_name": "LayoutView",
            "align_content": null,
            "align_items": null,
            "align_self": null,
            "border": null,
            "bottom": null,
            "display": null,
            "flex": null,
            "flex_flow": null,
            "grid_area": null,
            "grid_auto_columns": null,
            "grid_auto_flow": null,
            "grid_auto_rows": null,
            "grid_column": null,
            "grid_gap": null,
            "grid_row": null,
            "grid_template_areas": null,
            "grid_template_columns": null,
            "grid_template_rows": null,
            "height": null,
            "justify_content": null,
            "justify_items": null,
            "left": null,
            "margin": null,
            "max_height": null,
            "max_width": null,
            "min_height": null,
            "min_width": null,
            "object_fit": null,
            "object_position": null,
            "order": null,
            "overflow": null,
            "overflow_x": null,
            "overflow_y": null,
            "padding": null,
            "right": null,
            "top": null,
            "visibility": null,
            "width": null
          }
        },
        "966759a0946247afa35437c983ea510c": {
          "model_module": "@jupyter-widgets/controls",
          "model_name": "ProgressStyleModel",
          "model_module_version": "1.5.0",
          "state": {
            "_model_module": "@jupyter-widgets/controls",
            "_model_module_version": "1.5.0",
            "_model_name": "ProgressStyleModel",
            "_view_count": null,
            "_view_module": "@jupyter-widgets/base",
            "_view_module_version": "1.2.0",
            "_view_name": "StyleView",
            "bar_color": null,
            "description_width": ""
          }
        },
        "a737c949961d4de8ae1f484f054aea9b": {
          "model_module": "@jupyter-widgets/base",
          "model_name": "LayoutModel",
          "model_module_version": "1.2.0",
          "state": {
            "_model_module": "@jupyter-widgets/base",
            "_model_module_version": "1.2.0",
            "_model_name": "LayoutModel",
            "_view_count": null,
            "_view_module": "@jupyter-widgets/base",
            "_view_module_version": "1.2.0",
            "_view_name": "LayoutView",
            "align_content": null,
            "align_items": null,
            "align_self": null,
            "border": null,
            "bottom": null,
            "display": null,
            "flex": null,
            "flex_flow": null,
            "grid_area": null,
            "grid_auto_columns": null,
            "grid_auto_flow": null,
            "grid_auto_rows": null,
            "grid_column": null,
            "grid_gap": null,
            "grid_row": null,
            "grid_template_areas": null,
            "grid_template_columns": null,
            "grid_template_rows": null,
            "height": null,
            "justify_content": null,
            "justify_items": null,
            "left": null,
            "margin": null,
            "max_height": null,
            "max_width": null,
            "min_height": null,
            "min_width": null,
            "object_fit": null,
            "object_position": null,
            "order": null,
            "overflow": null,
            "overflow_x": null,
            "overflow_y": null,
            "padding": null,
            "right": null,
            "top": null,
            "visibility": null,
            "width": null
          }
        },
        "357e5e79d3574a3287d9bc4bdddf941b": {
          "model_module": "@jupyter-widgets/controls",
          "model_name": "DescriptionStyleModel",
          "model_module_version": "1.5.0",
          "state": {
            "_model_module": "@jupyter-widgets/controls",
            "_model_module_version": "1.5.0",
            "_model_name": "DescriptionStyleModel",
            "_view_count": null,
            "_view_module": "@jupyter-widgets/base",
            "_view_module_version": "1.2.0",
            "_view_name": "StyleView",
            "description_width": ""
          }
        },
        "b63e5b7a13e7478f930a8e4bc614a576": {
          "model_module": "@jupyter-widgets/controls",
          "model_name": "HBoxModel",
          "model_module_version": "1.5.0",
          "state": {
            "_dom_classes": [],
            "_model_module": "@jupyter-widgets/controls",
            "_model_module_version": "1.5.0",
            "_model_name": "HBoxModel",
            "_view_count": null,
            "_view_module": "@jupyter-widgets/controls",
            "_view_module_version": "1.5.0",
            "_view_name": "HBoxView",
            "box_style": "",
            "children": [
              "IPY_MODEL_757fa29bb865473b99e20e9c003d3fc7",
              "IPY_MODEL_6d03dc47293246b0a7c387d5530219da",
              "IPY_MODEL_85f40ab32f6049ef9e033068fde7cef0"
            ],
            "layout": "IPY_MODEL_20dbc37457034d24bd148b1e81a96a74"
          }
        },
        "757fa29bb865473b99e20e9c003d3fc7": {
          "model_module": "@jupyter-widgets/controls",
          "model_name": "HTMLModel",
          "model_module_version": "1.5.0",
          "state": {
            "_dom_classes": [],
            "_model_module": "@jupyter-widgets/controls",
            "_model_module_version": "1.5.0",
            "_model_name": "HTMLModel",
            "_view_count": null,
            "_view_module": "@jupyter-widgets/controls",
            "_view_module_version": "1.5.0",
            "_view_name": "HTMLView",
            "description": "",
            "description_tooltip": null,
            "layout": "IPY_MODEL_e5f9ff22e5ec47aba231ab611c5028ed",
            "placeholder": "​",
            "style": "IPY_MODEL_2b251e6549164188b4a8f0fda84eb50c",
            "value": "vocab.txt: 100%"
          }
        },
        "6d03dc47293246b0a7c387d5530219da": {
          "model_module": "@jupyter-widgets/controls",
          "model_name": "FloatProgressModel",
          "model_module_version": "1.5.0",
          "state": {
            "_dom_classes": [],
            "_model_module": "@jupyter-widgets/controls",
            "_model_module_version": "1.5.0",
            "_model_name": "FloatProgressModel",
            "_view_count": null,
            "_view_module": "@jupyter-widgets/controls",
            "_view_module_version": "1.5.0",
            "_view_name": "ProgressView",
            "bar_style": "success",
            "description": "",
            "description_tooltip": null,
            "layout": "IPY_MODEL_0adc8a5239a648949cd812e70ff83649",
            "max": 231508,
            "min": 0,
            "orientation": "horizontal",
            "style": "IPY_MODEL_27fe1347b4b447a5ab53dc3ba44859c1",
            "value": 231508
          }
        },
        "85f40ab32f6049ef9e033068fde7cef0": {
          "model_module": "@jupyter-widgets/controls",
          "model_name": "HTMLModel",
          "model_module_version": "1.5.0",
          "state": {
            "_dom_classes": [],
            "_model_module": "@jupyter-widgets/controls",
            "_model_module_version": "1.5.0",
            "_model_name": "HTMLModel",
            "_view_count": null,
            "_view_module": "@jupyter-widgets/controls",
            "_view_module_version": "1.5.0",
            "_view_name": "HTMLView",
            "description": "",
            "description_tooltip": null,
            "layout": "IPY_MODEL_615d32d8e33445f689890e169d5598f2",
            "placeholder": "​",
            "style": "IPY_MODEL_46aa7d6a88a443e3985f4223b9b45e0c",
            "value": " 232k/232k [00:00&lt;00:00, 2.69MB/s]"
          }
        },
        "20dbc37457034d24bd148b1e81a96a74": {
          "model_module": "@jupyter-widgets/base",
          "model_name": "LayoutModel",
          "model_module_version": "1.2.0",
          "state": {
            "_model_module": "@jupyter-widgets/base",
            "_model_module_version": "1.2.0",
            "_model_name": "LayoutModel",
            "_view_count": null,
            "_view_module": "@jupyter-widgets/base",
            "_view_module_version": "1.2.0",
            "_view_name": "LayoutView",
            "align_content": null,
            "align_items": null,
            "align_self": null,
            "border": null,
            "bottom": null,
            "display": null,
            "flex": null,
            "flex_flow": null,
            "grid_area": null,
            "grid_auto_columns": null,
            "grid_auto_flow": null,
            "grid_auto_rows": null,
            "grid_column": null,
            "grid_gap": null,
            "grid_row": null,
            "grid_template_areas": null,
            "grid_template_columns": null,
            "grid_template_rows": null,
            "height": null,
            "justify_content": null,
            "justify_items": null,
            "left": null,
            "margin": null,
            "max_height": null,
            "max_width": null,
            "min_height": null,
            "min_width": null,
            "object_fit": null,
            "object_position": null,
            "order": null,
            "overflow": null,
            "overflow_x": null,
            "overflow_y": null,
            "padding": null,
            "right": null,
            "top": null,
            "visibility": null,
            "width": null
          }
        },
        "e5f9ff22e5ec47aba231ab611c5028ed": {
          "model_module": "@jupyter-widgets/base",
          "model_name": "LayoutModel",
          "model_module_version": "1.2.0",
          "state": {
            "_model_module": "@jupyter-widgets/base",
            "_model_module_version": "1.2.0",
            "_model_name": "LayoutModel",
            "_view_count": null,
            "_view_module": "@jupyter-widgets/base",
            "_view_module_version": "1.2.0",
            "_view_name": "LayoutView",
            "align_content": null,
            "align_items": null,
            "align_self": null,
            "border": null,
            "bottom": null,
            "display": null,
            "flex": null,
            "flex_flow": null,
            "grid_area": null,
            "grid_auto_columns": null,
            "grid_auto_flow": null,
            "grid_auto_rows": null,
            "grid_column": null,
            "grid_gap": null,
            "grid_row": null,
            "grid_template_areas": null,
            "grid_template_columns": null,
            "grid_template_rows": null,
            "height": null,
            "justify_content": null,
            "justify_items": null,
            "left": null,
            "margin": null,
            "max_height": null,
            "max_width": null,
            "min_height": null,
            "min_width": null,
            "object_fit": null,
            "object_position": null,
            "order": null,
            "overflow": null,
            "overflow_x": null,
            "overflow_y": null,
            "padding": null,
            "right": null,
            "top": null,
            "visibility": null,
            "width": null
          }
        },
        "2b251e6549164188b4a8f0fda84eb50c": {
          "model_module": "@jupyter-widgets/controls",
          "model_name": "DescriptionStyleModel",
          "model_module_version": "1.5.0",
          "state": {
            "_model_module": "@jupyter-widgets/controls",
            "_model_module_version": "1.5.0",
            "_model_name": "DescriptionStyleModel",
            "_view_count": null,
            "_view_module": "@jupyter-widgets/base",
            "_view_module_version": "1.2.0",
            "_view_name": "StyleView",
            "description_width": ""
          }
        },
        "0adc8a5239a648949cd812e70ff83649": {
          "model_module": "@jupyter-widgets/base",
          "model_name": "LayoutModel",
          "model_module_version": "1.2.0",
          "state": {
            "_model_module": "@jupyter-widgets/base",
            "_model_module_version": "1.2.0",
            "_model_name": "LayoutModel",
            "_view_count": null,
            "_view_module": "@jupyter-widgets/base",
            "_view_module_version": "1.2.0",
            "_view_name": "LayoutView",
            "align_content": null,
            "align_items": null,
            "align_self": null,
            "border": null,
            "bottom": null,
            "display": null,
            "flex": null,
            "flex_flow": null,
            "grid_area": null,
            "grid_auto_columns": null,
            "grid_auto_flow": null,
            "grid_auto_rows": null,
            "grid_column": null,
            "grid_gap": null,
            "grid_row": null,
            "grid_template_areas": null,
            "grid_template_columns": null,
            "grid_template_rows": null,
            "height": null,
            "justify_content": null,
            "justify_items": null,
            "left": null,
            "margin": null,
            "max_height": null,
            "max_width": null,
            "min_height": null,
            "min_width": null,
            "object_fit": null,
            "object_position": null,
            "order": null,
            "overflow": null,
            "overflow_x": null,
            "overflow_y": null,
            "padding": null,
            "right": null,
            "top": null,
            "visibility": null,
            "width": null
          }
        },
        "27fe1347b4b447a5ab53dc3ba44859c1": {
          "model_module": "@jupyter-widgets/controls",
          "model_name": "ProgressStyleModel",
          "model_module_version": "1.5.0",
          "state": {
            "_model_module": "@jupyter-widgets/controls",
            "_model_module_version": "1.5.0",
            "_model_name": "ProgressStyleModel",
            "_view_count": null,
            "_view_module": "@jupyter-widgets/base",
            "_view_module_version": "1.2.0",
            "_view_name": "StyleView",
            "bar_color": null,
            "description_width": ""
          }
        },
        "615d32d8e33445f689890e169d5598f2": {
          "model_module": "@jupyter-widgets/base",
          "model_name": "LayoutModel",
          "model_module_version": "1.2.0",
          "state": {
            "_model_module": "@jupyter-widgets/base",
            "_model_module_version": "1.2.0",
            "_model_name": "LayoutModel",
            "_view_count": null,
            "_view_module": "@jupyter-widgets/base",
            "_view_module_version": "1.2.0",
            "_view_name": "LayoutView",
            "align_content": null,
            "align_items": null,
            "align_self": null,
            "border": null,
            "bottom": null,
            "display": null,
            "flex": null,
            "flex_flow": null,
            "grid_area": null,
            "grid_auto_columns": null,
            "grid_auto_flow": null,
            "grid_auto_rows": null,
            "grid_column": null,
            "grid_gap": null,
            "grid_row": null,
            "grid_template_areas": null,
            "grid_template_columns": null,
            "grid_template_rows": null,
            "height": null,
            "justify_content": null,
            "justify_items": null,
            "left": null,
            "margin": null,
            "max_height": null,
            "max_width": null,
            "min_height": null,
            "min_width": null,
            "object_fit": null,
            "object_position": null,
            "order": null,
            "overflow": null,
            "overflow_x": null,
            "overflow_y": null,
            "padding": null,
            "right": null,
            "top": null,
            "visibility": null,
            "width": null
          }
        },
        "46aa7d6a88a443e3985f4223b9b45e0c": {
          "model_module": "@jupyter-widgets/controls",
          "model_name": "DescriptionStyleModel",
          "model_module_version": "1.5.0",
          "state": {
            "_model_module": "@jupyter-widgets/controls",
            "_model_module_version": "1.5.0",
            "_model_name": "DescriptionStyleModel",
            "_view_count": null,
            "_view_module": "@jupyter-widgets/base",
            "_view_module_version": "1.2.0",
            "_view_name": "StyleView",
            "description_width": ""
          }
        },
        "81e32a0bedd44b848700c5a006d66d08": {
          "model_module": "@jupyter-widgets/controls",
          "model_name": "HBoxModel",
          "model_module_version": "1.5.0",
          "state": {
            "_dom_classes": [],
            "_model_module": "@jupyter-widgets/controls",
            "_model_module_version": "1.5.0",
            "_model_name": "HBoxModel",
            "_view_count": null,
            "_view_module": "@jupyter-widgets/controls",
            "_view_module_version": "1.5.0",
            "_view_name": "HBoxView",
            "box_style": "",
            "children": [
              "IPY_MODEL_f0368c8a155b49fdb6bd509df6b16123",
              "IPY_MODEL_878cd234ba874125baf67e4677429db0",
              "IPY_MODEL_a4bc703eb165465f8a8fbc8a42eca8e3"
            ],
            "layout": "IPY_MODEL_f80b81125500462392b196b89e391489"
          }
        },
        "f0368c8a155b49fdb6bd509df6b16123": {
          "model_module": "@jupyter-widgets/controls",
          "model_name": "HTMLModel",
          "model_module_version": "1.5.0",
          "state": {
            "_dom_classes": [],
            "_model_module": "@jupyter-widgets/controls",
            "_model_module_version": "1.5.0",
            "_model_name": "HTMLModel",
            "_view_count": null,
            "_view_module": "@jupyter-widgets/controls",
            "_view_module_version": "1.5.0",
            "_view_name": "HTMLView",
            "description": "",
            "description_tooltip": null,
            "layout": "IPY_MODEL_b205dc5c5a464bafab88d70d3068b762",
            "placeholder": "​",
            "style": "IPY_MODEL_e011537456e142ffadec97849ce99c31",
            "value": "tokenizer.json: 100%"
          }
        },
        "878cd234ba874125baf67e4677429db0": {
          "model_module": "@jupyter-widgets/controls",
          "model_name": "FloatProgressModel",
          "model_module_version": "1.5.0",
          "state": {
            "_dom_classes": [],
            "_model_module": "@jupyter-widgets/controls",
            "_model_module_version": "1.5.0",
            "_model_name": "FloatProgressModel",
            "_view_count": null,
            "_view_module": "@jupyter-widgets/controls",
            "_view_module_version": "1.5.0",
            "_view_name": "ProgressView",
            "bar_style": "success",
            "description": "",
            "description_tooltip": null,
            "layout": "IPY_MODEL_51027a25f9ba4295aada362ff5c73aca",
            "max": 466062,
            "min": 0,
            "orientation": "horizontal",
            "style": "IPY_MODEL_cf71e730d4e944e98213cf4fa8da4155",
            "value": 466062
          }
        },
        "a4bc703eb165465f8a8fbc8a42eca8e3": {
          "model_module": "@jupyter-widgets/controls",
          "model_name": "HTMLModel",
          "model_module_version": "1.5.0",
          "state": {
            "_dom_classes": [],
            "_model_module": "@jupyter-widgets/controls",
            "_model_module_version": "1.5.0",
            "_model_name": "HTMLModel",
            "_view_count": null,
            "_view_module": "@jupyter-widgets/controls",
            "_view_module_version": "1.5.0",
            "_view_name": "HTMLView",
            "description": "",
            "description_tooltip": null,
            "layout": "IPY_MODEL_25cf77bb0a5644618ddfcfecb1e9aabd",
            "placeholder": "​",
            "style": "IPY_MODEL_d6d5968993ae4af0b7f89e308aa28de9",
            "value": " 466k/466k [00:00&lt;00:00, 10.2MB/s]"
          }
        },
        "f80b81125500462392b196b89e391489": {
          "model_module": "@jupyter-widgets/base",
          "model_name": "LayoutModel",
          "model_module_version": "1.2.0",
          "state": {
            "_model_module": "@jupyter-widgets/base",
            "_model_module_version": "1.2.0",
            "_model_name": "LayoutModel",
            "_view_count": null,
            "_view_module": "@jupyter-widgets/base",
            "_view_module_version": "1.2.0",
            "_view_name": "LayoutView",
            "align_content": null,
            "align_items": null,
            "align_self": null,
            "border": null,
            "bottom": null,
            "display": null,
            "flex": null,
            "flex_flow": null,
            "grid_area": null,
            "grid_auto_columns": null,
            "grid_auto_flow": null,
            "grid_auto_rows": null,
            "grid_column": null,
            "grid_gap": null,
            "grid_row": null,
            "grid_template_areas": null,
            "grid_template_columns": null,
            "grid_template_rows": null,
            "height": null,
            "justify_content": null,
            "justify_items": null,
            "left": null,
            "margin": null,
            "max_height": null,
            "max_width": null,
            "min_height": null,
            "min_width": null,
            "object_fit": null,
            "object_position": null,
            "order": null,
            "overflow": null,
            "overflow_x": null,
            "overflow_y": null,
            "padding": null,
            "right": null,
            "top": null,
            "visibility": null,
            "width": null
          }
        },
        "b205dc5c5a464bafab88d70d3068b762": {
          "model_module": "@jupyter-widgets/base",
          "model_name": "LayoutModel",
          "model_module_version": "1.2.0",
          "state": {
            "_model_module": "@jupyter-widgets/base",
            "_model_module_version": "1.2.0",
            "_model_name": "LayoutModel",
            "_view_count": null,
            "_view_module": "@jupyter-widgets/base",
            "_view_module_version": "1.2.0",
            "_view_name": "LayoutView",
            "align_content": null,
            "align_items": null,
            "align_self": null,
            "border": null,
            "bottom": null,
            "display": null,
            "flex": null,
            "flex_flow": null,
            "grid_area": null,
            "grid_auto_columns": null,
            "grid_auto_flow": null,
            "grid_auto_rows": null,
            "grid_column": null,
            "grid_gap": null,
            "grid_row": null,
            "grid_template_areas": null,
            "grid_template_columns": null,
            "grid_template_rows": null,
            "height": null,
            "justify_content": null,
            "justify_items": null,
            "left": null,
            "margin": null,
            "max_height": null,
            "max_width": null,
            "min_height": null,
            "min_width": null,
            "object_fit": null,
            "object_position": null,
            "order": null,
            "overflow": null,
            "overflow_x": null,
            "overflow_y": null,
            "padding": null,
            "right": null,
            "top": null,
            "visibility": null,
            "width": null
          }
        },
        "e011537456e142ffadec97849ce99c31": {
          "model_module": "@jupyter-widgets/controls",
          "model_name": "DescriptionStyleModel",
          "model_module_version": "1.5.0",
          "state": {
            "_model_module": "@jupyter-widgets/controls",
            "_model_module_version": "1.5.0",
            "_model_name": "DescriptionStyleModel",
            "_view_count": null,
            "_view_module": "@jupyter-widgets/base",
            "_view_module_version": "1.2.0",
            "_view_name": "StyleView",
            "description_width": ""
          }
        },
        "51027a25f9ba4295aada362ff5c73aca": {
          "model_module": "@jupyter-widgets/base",
          "model_name": "LayoutModel",
          "model_module_version": "1.2.0",
          "state": {
            "_model_module": "@jupyter-widgets/base",
            "_model_module_version": "1.2.0",
            "_model_name": "LayoutModel",
            "_view_count": null,
            "_view_module": "@jupyter-widgets/base",
            "_view_module_version": "1.2.0",
            "_view_name": "LayoutView",
            "align_content": null,
            "align_items": null,
            "align_self": null,
            "border": null,
            "bottom": null,
            "display": null,
            "flex": null,
            "flex_flow": null,
            "grid_area": null,
            "grid_auto_columns": null,
            "grid_auto_flow": null,
            "grid_auto_rows": null,
            "grid_column": null,
            "grid_gap": null,
            "grid_row": null,
            "grid_template_areas": null,
            "grid_template_columns": null,
            "grid_template_rows": null,
            "height": null,
            "justify_content": null,
            "justify_items": null,
            "left": null,
            "margin": null,
            "max_height": null,
            "max_width": null,
            "min_height": null,
            "min_width": null,
            "object_fit": null,
            "object_position": null,
            "order": null,
            "overflow": null,
            "overflow_x": null,
            "overflow_y": null,
            "padding": null,
            "right": null,
            "top": null,
            "visibility": null,
            "width": null
          }
        },
        "cf71e730d4e944e98213cf4fa8da4155": {
          "model_module": "@jupyter-widgets/controls",
          "model_name": "ProgressStyleModel",
          "model_module_version": "1.5.0",
          "state": {
            "_model_module": "@jupyter-widgets/controls",
            "_model_module_version": "1.5.0",
            "_model_name": "ProgressStyleModel",
            "_view_count": null,
            "_view_module": "@jupyter-widgets/base",
            "_view_module_version": "1.2.0",
            "_view_name": "StyleView",
            "bar_color": null,
            "description_width": ""
          }
        },
        "25cf77bb0a5644618ddfcfecb1e9aabd": {
          "model_module": "@jupyter-widgets/base",
          "model_name": "LayoutModel",
          "model_module_version": "1.2.0",
          "state": {
            "_model_module": "@jupyter-widgets/base",
            "_model_module_version": "1.2.0",
            "_model_name": "LayoutModel",
            "_view_count": null,
            "_view_module": "@jupyter-widgets/base",
            "_view_module_version": "1.2.0",
            "_view_name": "LayoutView",
            "align_content": null,
            "align_items": null,
            "align_self": null,
            "border": null,
            "bottom": null,
            "display": null,
            "flex": null,
            "flex_flow": null,
            "grid_area": null,
            "grid_auto_columns": null,
            "grid_auto_flow": null,
            "grid_auto_rows": null,
            "grid_column": null,
            "grid_gap": null,
            "grid_row": null,
            "grid_template_areas": null,
            "grid_template_columns": null,
            "grid_template_rows": null,
            "height": null,
            "justify_content": null,
            "justify_items": null,
            "left": null,
            "margin": null,
            "max_height": null,
            "max_width": null,
            "min_height": null,
            "min_width": null,
            "object_fit": null,
            "object_position": null,
            "order": null,
            "overflow": null,
            "overflow_x": null,
            "overflow_y": null,
            "padding": null,
            "right": null,
            "top": null,
            "visibility": null,
            "width": null
          }
        },
        "d6d5968993ae4af0b7f89e308aa28de9": {
          "model_module": "@jupyter-widgets/controls",
          "model_name": "DescriptionStyleModel",
          "model_module_version": "1.5.0",
          "state": {
            "_model_module": "@jupyter-widgets/controls",
            "_model_module_version": "1.5.0",
            "_model_name": "DescriptionStyleModel",
            "_view_count": null,
            "_view_module": "@jupyter-widgets/base",
            "_view_module_version": "1.2.0",
            "_view_name": "StyleView",
            "description_width": ""
          }
        },
        "aa70d078784343548c15aa07eb906052": {
          "model_module": "@jupyter-widgets/controls",
          "model_name": "HBoxModel",
          "model_module_version": "1.5.0",
          "state": {
            "_dom_classes": [],
            "_model_module": "@jupyter-widgets/controls",
            "_model_module_version": "1.5.0",
            "_model_name": "HBoxModel",
            "_view_count": null,
            "_view_module": "@jupyter-widgets/controls",
            "_view_module_version": "1.5.0",
            "_view_name": "HBoxView",
            "box_style": "",
            "children": [
              "IPY_MODEL_17c31a8737c04318bd95fe3fa2a34796",
              "IPY_MODEL_22e3f286c8944dcb92b7cff807b9a5af",
              "IPY_MODEL_1bd12971caa5413cbf1a2be3890ce5a6"
            ],
            "layout": "IPY_MODEL_1137c6b4e1f7484eaf97cb356764a16e"
          }
        },
        "17c31a8737c04318bd95fe3fa2a34796": {
          "model_module": "@jupyter-widgets/controls",
          "model_name": "HTMLModel",
          "model_module_version": "1.5.0",
          "state": {
            "_dom_classes": [],
            "_model_module": "@jupyter-widgets/controls",
            "_model_module_version": "1.5.0",
            "_model_name": "HTMLModel",
            "_view_count": null,
            "_view_module": "@jupyter-widgets/controls",
            "_view_module_version": "1.5.0",
            "_view_name": "HTMLView",
            "description": "",
            "description_tooltip": null,
            "layout": "IPY_MODEL_711a5aa7e6f84c9497832e199081aa0e",
            "placeholder": "​",
            "style": "IPY_MODEL_e5307186bc504cb7b6f80f1ae9d164bc",
            "value": "config.json: 100%"
          }
        },
        "22e3f286c8944dcb92b7cff807b9a5af": {
          "model_module": "@jupyter-widgets/controls",
          "model_name": "FloatProgressModel",
          "model_module_version": "1.5.0",
          "state": {
            "_dom_classes": [],
            "_model_module": "@jupyter-widgets/controls",
            "_model_module_version": "1.5.0",
            "_model_name": "FloatProgressModel",
            "_view_count": null,
            "_view_module": "@jupyter-widgets/controls",
            "_view_module_version": "1.5.0",
            "_view_name": "ProgressView",
            "bar_style": "success",
            "description": "",
            "description_tooltip": null,
            "layout": "IPY_MODEL_802be2ed43af402abf3b526f030008a2",
            "max": 570,
            "min": 0,
            "orientation": "horizontal",
            "style": "IPY_MODEL_3b7715687bb44fbebf59021d08e958d6",
            "value": 570
          }
        },
        "1bd12971caa5413cbf1a2be3890ce5a6": {
          "model_module": "@jupyter-widgets/controls",
          "model_name": "HTMLModel",
          "model_module_version": "1.5.0",
          "state": {
            "_dom_classes": [],
            "_model_module": "@jupyter-widgets/controls",
            "_model_module_version": "1.5.0",
            "_model_name": "HTMLModel",
            "_view_count": null,
            "_view_module": "@jupyter-widgets/controls",
            "_view_module_version": "1.5.0",
            "_view_name": "HTMLView",
            "description": "",
            "description_tooltip": null,
            "layout": "IPY_MODEL_6e25f6524f0543e0865c345fd195bb14",
            "placeholder": "​",
            "style": "IPY_MODEL_f21d9c0f81b04e6abedaba0ddb1cc128",
            "value": " 570/570 [00:00&lt;00:00, 50.2kB/s]"
          }
        },
        "1137c6b4e1f7484eaf97cb356764a16e": {
          "model_module": "@jupyter-widgets/base",
          "model_name": "LayoutModel",
          "model_module_version": "1.2.0",
          "state": {
            "_model_module": "@jupyter-widgets/base",
            "_model_module_version": "1.2.0",
            "_model_name": "LayoutModel",
            "_view_count": null,
            "_view_module": "@jupyter-widgets/base",
            "_view_module_version": "1.2.0",
            "_view_name": "LayoutView",
            "align_content": null,
            "align_items": null,
            "align_self": null,
            "border": null,
            "bottom": null,
            "display": null,
            "flex": null,
            "flex_flow": null,
            "grid_area": null,
            "grid_auto_columns": null,
            "grid_auto_flow": null,
            "grid_auto_rows": null,
            "grid_column": null,
            "grid_gap": null,
            "grid_row": null,
            "grid_template_areas": null,
            "grid_template_columns": null,
            "grid_template_rows": null,
            "height": null,
            "justify_content": null,
            "justify_items": null,
            "left": null,
            "margin": null,
            "max_height": null,
            "max_width": null,
            "min_height": null,
            "min_width": null,
            "object_fit": null,
            "object_position": null,
            "order": null,
            "overflow": null,
            "overflow_x": null,
            "overflow_y": null,
            "padding": null,
            "right": null,
            "top": null,
            "visibility": null,
            "width": null
          }
        },
        "711a5aa7e6f84c9497832e199081aa0e": {
          "model_module": "@jupyter-widgets/base",
          "model_name": "LayoutModel",
          "model_module_version": "1.2.0",
          "state": {
            "_model_module": "@jupyter-widgets/base",
            "_model_module_version": "1.2.0",
            "_model_name": "LayoutModel",
            "_view_count": null,
            "_view_module": "@jupyter-widgets/base",
            "_view_module_version": "1.2.0",
            "_view_name": "LayoutView",
            "align_content": null,
            "align_items": null,
            "align_self": null,
            "border": null,
            "bottom": null,
            "display": null,
            "flex": null,
            "flex_flow": null,
            "grid_area": null,
            "grid_auto_columns": null,
            "grid_auto_flow": null,
            "grid_auto_rows": null,
            "grid_column": null,
            "grid_gap": null,
            "grid_row": null,
            "grid_template_areas": null,
            "grid_template_columns": null,
            "grid_template_rows": null,
            "height": null,
            "justify_content": null,
            "justify_items": null,
            "left": null,
            "margin": null,
            "max_height": null,
            "max_width": null,
            "min_height": null,
            "min_width": null,
            "object_fit": null,
            "object_position": null,
            "order": null,
            "overflow": null,
            "overflow_x": null,
            "overflow_y": null,
            "padding": null,
            "right": null,
            "top": null,
            "visibility": null,
            "width": null
          }
        },
        "e5307186bc504cb7b6f80f1ae9d164bc": {
          "model_module": "@jupyter-widgets/controls",
          "model_name": "DescriptionStyleModel",
          "model_module_version": "1.5.0",
          "state": {
            "_model_module": "@jupyter-widgets/controls",
            "_model_module_version": "1.5.0",
            "_model_name": "DescriptionStyleModel",
            "_view_count": null,
            "_view_module": "@jupyter-widgets/base",
            "_view_module_version": "1.2.0",
            "_view_name": "StyleView",
            "description_width": ""
          }
        },
        "802be2ed43af402abf3b526f030008a2": {
          "model_module": "@jupyter-widgets/base",
          "model_name": "LayoutModel",
          "model_module_version": "1.2.0",
          "state": {
            "_model_module": "@jupyter-widgets/base",
            "_model_module_version": "1.2.0",
            "_model_name": "LayoutModel",
            "_view_count": null,
            "_view_module": "@jupyter-widgets/base",
            "_view_module_version": "1.2.0",
            "_view_name": "LayoutView",
            "align_content": null,
            "align_items": null,
            "align_self": null,
            "border": null,
            "bottom": null,
            "display": null,
            "flex": null,
            "flex_flow": null,
            "grid_area": null,
            "grid_auto_columns": null,
            "grid_auto_flow": null,
            "grid_auto_rows": null,
            "grid_column": null,
            "grid_gap": null,
            "grid_row": null,
            "grid_template_areas": null,
            "grid_template_columns": null,
            "grid_template_rows": null,
            "height": null,
            "justify_content": null,
            "justify_items": null,
            "left": null,
            "margin": null,
            "max_height": null,
            "max_width": null,
            "min_height": null,
            "min_width": null,
            "object_fit": null,
            "object_position": null,
            "order": null,
            "overflow": null,
            "overflow_x": null,
            "overflow_y": null,
            "padding": null,
            "right": null,
            "top": null,
            "visibility": null,
            "width": null
          }
        },
        "3b7715687bb44fbebf59021d08e958d6": {
          "model_module": "@jupyter-widgets/controls",
          "model_name": "ProgressStyleModel",
          "model_module_version": "1.5.0",
          "state": {
            "_model_module": "@jupyter-widgets/controls",
            "_model_module_version": "1.5.0",
            "_model_name": "ProgressStyleModel",
            "_view_count": null,
            "_view_module": "@jupyter-widgets/base",
            "_view_module_version": "1.2.0",
            "_view_name": "StyleView",
            "bar_color": null,
            "description_width": ""
          }
        },
        "6e25f6524f0543e0865c345fd195bb14": {
          "model_module": "@jupyter-widgets/base",
          "model_name": "LayoutModel",
          "model_module_version": "1.2.0",
          "state": {
            "_model_module": "@jupyter-widgets/base",
            "_model_module_version": "1.2.0",
            "_model_name": "LayoutModel",
            "_view_count": null,
            "_view_module": "@jupyter-widgets/base",
            "_view_module_version": "1.2.0",
            "_view_name": "LayoutView",
            "align_content": null,
            "align_items": null,
            "align_self": null,
            "border": null,
            "bottom": null,
            "display": null,
            "flex": null,
            "flex_flow": null,
            "grid_area": null,
            "grid_auto_columns": null,
            "grid_auto_flow": null,
            "grid_auto_rows": null,
            "grid_column": null,
            "grid_gap": null,
            "grid_row": null,
            "grid_template_areas": null,
            "grid_template_columns": null,
            "grid_template_rows": null,
            "height": null,
            "justify_content": null,
            "justify_items": null,
            "left": null,
            "margin": null,
            "max_height": null,
            "max_width": null,
            "min_height": null,
            "min_width": null,
            "object_fit": null,
            "object_position": null,
            "order": null,
            "overflow": null,
            "overflow_x": null,
            "overflow_y": null,
            "padding": null,
            "right": null,
            "top": null,
            "visibility": null,
            "width": null
          }
        },
        "f21d9c0f81b04e6abedaba0ddb1cc128": {
          "model_module": "@jupyter-widgets/controls",
          "model_name": "DescriptionStyleModel",
          "model_module_version": "1.5.0",
          "state": {
            "_model_module": "@jupyter-widgets/controls",
            "_model_module_version": "1.5.0",
            "_model_name": "DescriptionStyleModel",
            "_view_count": null,
            "_view_module": "@jupyter-widgets/base",
            "_view_module_version": "1.2.0",
            "_view_name": "StyleView",
            "description_width": ""
          }
        },
        "c5d06571cdeb46dab0ac5883f955ccff": {
          "model_module": "@jupyter-widgets/controls",
          "model_name": "HBoxModel",
          "model_module_version": "1.5.0",
          "state": {
            "_dom_classes": [],
            "_model_module": "@jupyter-widgets/controls",
            "_model_module_version": "1.5.0",
            "_model_name": "HBoxModel",
            "_view_count": null,
            "_view_module": "@jupyter-widgets/controls",
            "_view_module_version": "1.5.0",
            "_view_name": "HBoxView",
            "box_style": "",
            "children": [
              "IPY_MODEL_e212ab8ea7b34b25a21e945b38ddc0ef",
              "IPY_MODEL_8f6f32df23c046c2906c98084562c0eb",
              "IPY_MODEL_cbf6d28d091042ef8c1fefad7f032ab6"
            ],
            "layout": "IPY_MODEL_6f8ab144b04e4649a4ba1ceec58def00"
          }
        },
        "e212ab8ea7b34b25a21e945b38ddc0ef": {
          "model_module": "@jupyter-widgets/controls",
          "model_name": "HTMLModel",
          "model_module_version": "1.5.0",
          "state": {
            "_dom_classes": [],
            "_model_module": "@jupyter-widgets/controls",
            "_model_module_version": "1.5.0",
            "_model_name": "HTMLModel",
            "_view_count": null,
            "_view_module": "@jupyter-widgets/controls",
            "_view_module_version": "1.5.0",
            "_view_name": "HTMLView",
            "description": "",
            "description_tooltip": null,
            "layout": "IPY_MODEL_68b62bbb361e4ce7a76b4c42e3d309d9",
            "placeholder": "​",
            "style": "IPY_MODEL_6a3d724cb8734d5db19202bc56f5c0f2",
            "value": "model.safetensors: 100%"
          }
        },
        "8f6f32df23c046c2906c98084562c0eb": {
          "model_module": "@jupyter-widgets/controls",
          "model_name": "FloatProgressModel",
          "model_module_version": "1.5.0",
          "state": {
            "_dom_classes": [],
            "_model_module": "@jupyter-widgets/controls",
            "_model_module_version": "1.5.0",
            "_model_name": "FloatProgressModel",
            "_view_count": null,
            "_view_module": "@jupyter-widgets/controls",
            "_view_module_version": "1.5.0",
            "_view_name": "ProgressView",
            "bar_style": "success",
            "description": "",
            "description_tooltip": null,
            "layout": "IPY_MODEL_663db8f366b14df688e7adc89afa80b0",
            "max": 440449768,
            "min": 0,
            "orientation": "horizontal",
            "style": "IPY_MODEL_c88671a927f348f1b76279ba0adb727b",
            "value": 440449768
          }
        },
        "cbf6d28d091042ef8c1fefad7f032ab6": {
          "model_module": "@jupyter-widgets/controls",
          "model_name": "HTMLModel",
          "model_module_version": "1.5.0",
          "state": {
            "_dom_classes": [],
            "_model_module": "@jupyter-widgets/controls",
            "_model_module_version": "1.5.0",
            "_model_name": "HTMLModel",
            "_view_count": null,
            "_view_module": "@jupyter-widgets/controls",
            "_view_module_version": "1.5.0",
            "_view_name": "HTMLView",
            "description": "",
            "description_tooltip": null,
            "layout": "IPY_MODEL_565ed7705596422284429d8554ae64b3",
            "placeholder": "​",
            "style": "IPY_MODEL_46f3225c6de64a3b92a4ee2526ea8992",
            "value": " 440M/440M [00:02&lt;00:00, 251MB/s]"
          }
        },
        "6f8ab144b04e4649a4ba1ceec58def00": {
          "model_module": "@jupyter-widgets/base",
          "model_name": "LayoutModel",
          "model_module_version": "1.2.0",
          "state": {
            "_model_module": "@jupyter-widgets/base",
            "_model_module_version": "1.2.0",
            "_model_name": "LayoutModel",
            "_view_count": null,
            "_view_module": "@jupyter-widgets/base",
            "_view_module_version": "1.2.0",
            "_view_name": "LayoutView",
            "align_content": null,
            "align_items": null,
            "align_self": null,
            "border": null,
            "bottom": null,
            "display": null,
            "flex": null,
            "flex_flow": null,
            "grid_area": null,
            "grid_auto_columns": null,
            "grid_auto_flow": null,
            "grid_auto_rows": null,
            "grid_column": null,
            "grid_gap": null,
            "grid_row": null,
            "grid_template_areas": null,
            "grid_template_columns": null,
            "grid_template_rows": null,
            "height": null,
            "justify_content": null,
            "justify_items": null,
            "left": null,
            "margin": null,
            "max_height": null,
            "max_width": null,
            "min_height": null,
            "min_width": null,
            "object_fit": null,
            "object_position": null,
            "order": null,
            "overflow": null,
            "overflow_x": null,
            "overflow_y": null,
            "padding": null,
            "right": null,
            "top": null,
            "visibility": null,
            "width": null
          }
        },
        "68b62bbb361e4ce7a76b4c42e3d309d9": {
          "model_module": "@jupyter-widgets/base",
          "model_name": "LayoutModel",
          "model_module_version": "1.2.0",
          "state": {
            "_model_module": "@jupyter-widgets/base",
            "_model_module_version": "1.2.0",
            "_model_name": "LayoutModel",
            "_view_count": null,
            "_view_module": "@jupyter-widgets/base",
            "_view_module_version": "1.2.0",
            "_view_name": "LayoutView",
            "align_content": null,
            "align_items": null,
            "align_self": null,
            "border": null,
            "bottom": null,
            "display": null,
            "flex": null,
            "flex_flow": null,
            "grid_area": null,
            "grid_auto_columns": null,
            "grid_auto_flow": null,
            "grid_auto_rows": null,
            "grid_column": null,
            "grid_gap": null,
            "grid_row": null,
            "grid_template_areas": null,
            "grid_template_columns": null,
            "grid_template_rows": null,
            "height": null,
            "justify_content": null,
            "justify_items": null,
            "left": null,
            "margin": null,
            "max_height": null,
            "max_width": null,
            "min_height": null,
            "min_width": null,
            "object_fit": null,
            "object_position": null,
            "order": null,
            "overflow": null,
            "overflow_x": null,
            "overflow_y": null,
            "padding": null,
            "right": null,
            "top": null,
            "visibility": null,
            "width": null
          }
        },
        "6a3d724cb8734d5db19202bc56f5c0f2": {
          "model_module": "@jupyter-widgets/controls",
          "model_name": "DescriptionStyleModel",
          "model_module_version": "1.5.0",
          "state": {
            "_model_module": "@jupyter-widgets/controls",
            "_model_module_version": "1.5.0",
            "_model_name": "DescriptionStyleModel",
            "_view_count": null,
            "_view_module": "@jupyter-widgets/base",
            "_view_module_version": "1.2.0",
            "_view_name": "StyleView",
            "description_width": ""
          }
        },
        "663db8f366b14df688e7adc89afa80b0": {
          "model_module": "@jupyter-widgets/base",
          "model_name": "LayoutModel",
          "model_module_version": "1.2.0",
          "state": {
            "_model_module": "@jupyter-widgets/base",
            "_model_module_version": "1.2.0",
            "_model_name": "LayoutModel",
            "_view_count": null,
            "_view_module": "@jupyter-widgets/base",
            "_view_module_version": "1.2.0",
            "_view_name": "LayoutView",
            "align_content": null,
            "align_items": null,
            "align_self": null,
            "border": null,
            "bottom": null,
            "display": null,
            "flex": null,
            "flex_flow": null,
            "grid_area": null,
            "grid_auto_columns": null,
            "grid_auto_flow": null,
            "grid_auto_rows": null,
            "grid_column": null,
            "grid_gap": null,
            "grid_row": null,
            "grid_template_areas": null,
            "grid_template_columns": null,
            "grid_template_rows": null,
            "height": null,
            "justify_content": null,
            "justify_items": null,
            "left": null,
            "margin": null,
            "max_height": null,
            "max_width": null,
            "min_height": null,
            "min_width": null,
            "object_fit": null,
            "object_position": null,
            "order": null,
            "overflow": null,
            "overflow_x": null,
            "overflow_y": null,
            "padding": null,
            "right": null,
            "top": null,
            "visibility": null,
            "width": null
          }
        },
        "c88671a927f348f1b76279ba0adb727b": {
          "model_module": "@jupyter-widgets/controls",
          "model_name": "ProgressStyleModel",
          "model_module_version": "1.5.0",
          "state": {
            "_model_module": "@jupyter-widgets/controls",
            "_model_module_version": "1.5.0",
            "_model_name": "ProgressStyleModel",
            "_view_count": null,
            "_view_module": "@jupyter-widgets/base",
            "_view_module_version": "1.2.0",
            "_view_name": "StyleView",
            "bar_color": null,
            "description_width": ""
          }
        },
        "565ed7705596422284429d8554ae64b3": {
          "model_module": "@jupyter-widgets/base",
          "model_name": "LayoutModel",
          "model_module_version": "1.2.0",
          "state": {
            "_model_module": "@jupyter-widgets/base",
            "_model_module_version": "1.2.0",
            "_model_name": "LayoutModel",
            "_view_count": null,
            "_view_module": "@jupyter-widgets/base",
            "_view_module_version": "1.2.0",
            "_view_name": "LayoutView",
            "align_content": null,
            "align_items": null,
            "align_self": null,
            "border": null,
            "bottom": null,
            "display": null,
            "flex": null,
            "flex_flow": null,
            "grid_area": null,
            "grid_auto_columns": null,
            "grid_auto_flow": null,
            "grid_auto_rows": null,
            "grid_column": null,
            "grid_gap": null,
            "grid_row": null,
            "grid_template_areas": null,
            "grid_template_columns": null,
            "grid_template_rows": null,
            "height": null,
            "justify_content": null,
            "justify_items": null,
            "left": null,
            "margin": null,
            "max_height": null,
            "max_width": null,
            "min_height": null,
            "min_width": null,
            "object_fit": null,
            "object_position": null,
            "order": null,
            "overflow": null,
            "overflow_x": null,
            "overflow_y": null,
            "padding": null,
            "right": null,
            "top": null,
            "visibility": null,
            "width": null
          }
        },
        "46f3225c6de64a3b92a4ee2526ea8992": {
          "model_module": "@jupyter-widgets/controls",
          "model_name": "DescriptionStyleModel",
          "model_module_version": "1.5.0",
          "state": {
            "_model_module": "@jupyter-widgets/controls",
            "_model_module_version": "1.5.0",
            "_model_name": "DescriptionStyleModel",
            "_view_count": null,
            "_view_module": "@jupyter-widgets/base",
            "_view_module_version": "1.2.0",
            "_view_name": "StyleView",
            "description_width": ""
          }
        }
      }
    }
  },
  "cells": [
    {
      "cell_type": "markdown",
      "metadata": {
        "id": "view-in-github",
        "colab_type": "text"
      },
      "source": [
        "<a href=\"https://colab.research.google.com/github/nesliyl/datasettrain/blob/main/preparemodel.ipynb\" target=\"_parent\"><img src=\"https://colab.research.google.com/assets/colab-badge.svg\" alt=\"Open In Colab\"/></a>"
      ]
    },
    {
      "cell_type": "code",
      "execution_count": 2,
      "metadata": {
        "id": "QLshnnGjHgsG"
      },
      "outputs": [],
      "source": [
        "import numpy as np\n",
        "import pandas as pd\n",
        "import missingno as msno\n",
        "import matplotlib.pyplot as plt\n",
        "from sklearn.neighbors import NearestNeighbors\n",
        "import json\n",
        "import re\n",
        "import torch\n",
        "\n",
        "from transformers import BertTokenizer, BertModel\n",
        "\n",
        "import nltk\n",
        "from nltk.corpus import stopwords\n",
        "from nltk.stem import PorterStemmer\n",
        "\n",
        "from difflib import get_close_matches\n",
        "\n",
        "\n",
        "\n",
        "import matplotlib.pyplot as plt\n",
        "import seaborn as sns\n",
        "\n",
        "from sklearn.model_selection import train_test_split\n",
        "from sklearn.preprocessing import LabelEncoder, StandardScaler\n",
        "from sklearn.ensemble import RandomForestClassifier\n",
        "from sklearn.metrics import accuracy_score, classification_report, confusion_matrix"
      ]
    },
    {
      "cell_type": "code",
      "source": [
        "!pip install faiss-cpu\n",
        "import faiss"
      ],
      "metadata": {
        "id": "l6E7fiVhH1F7"
      },
      "execution_count": null,
      "outputs": []
    },
    {
      "cell_type": "code",
      "source": [
        "from sklearn.metrics.pairwise import cosine_similarity\n",
        "from ast import literal_eval"
      ],
      "metadata": {
        "id": "WH2nJLwsH8Os"
      },
      "execution_count": null,
      "outputs": []
    },
    {
      "cell_type": "code",
      "source": [
        "from urllib.parse import urlparse"
      ],
      "metadata": {
        "id": "0rMcXpRRH_ri"
      },
      "execution_count": null,
      "outputs": []
    },
    {
      "cell_type": "code",
      "source": [
        "!pip install pycountry\n",
        "import pycountry"
      ],
      "metadata": {
        "colab": {
          "base_uri": "https://localhost:8080/"
        },
        "id": "p358w9tOIDg3",
        "outputId": "ad0aa77a-fec7-4027-9fea-5c38a3cade3a"
      },
      "execution_count": null,
      "outputs": [
        {
          "output_type": "stream",
          "name": "stdout",
          "text": [
            "Collecting pycountry\n",
            "  Downloading pycountry-24.6.1-py3-none-any.whl.metadata (12 kB)\n",
            "Downloading pycountry-24.6.1-py3-none-any.whl (6.3 MB)\n",
            "\u001b[2K   \u001b[90m━━━━━━━━━━━━━━━━━━━━━━━━━━━━━━━━━━━━━━━━\u001b[0m \u001b[32m6.3/6.3 MB\u001b[0m \u001b[31m56.3 MB/s\u001b[0m eta \u001b[36m0:00:00\u001b[0m\n",
            "\u001b[?25hInstalling collected packages: pycountry\n",
            "Successfully installed pycountry-24.6.1\n"
          ]
        }
      ]
    },
    {
      "cell_type": "code",
      "source": [
        "import shutil"
      ],
      "metadata": {
        "id": "kXmMzvr1IFCC"
      },
      "execution_count": null,
      "outputs": []
    },
    {
      "cell_type": "code",
      "source": [
        "from sklearn.preprocessing import LabelEncoder"
      ],
      "metadata": {
        "id": "JWWyDCanIIvf"
      },
      "execution_count": null,
      "outputs": []
    },
    {
      "cell_type": "code",
      "source": [
        "from sklearn.preprocessing import MinMaxScaler"
      ],
      "metadata": {
        "id": "742qofIMIJ-K"
      },
      "execution_count": null,
      "outputs": []
    },
    {
      "cell_type": "code",
      "source": [
        "from google.colab import drive\n",
        "drive.mount('/content/drive')"
      ],
      "metadata": {
        "colab": {
          "base_uri": "https://localhost:8080/"
        },
        "id": "Uaj0VL4bUN8H",
        "outputId": "d239fe47-480e-431f-cd06-f2856d7452be"
      },
      "execution_count": null,
      "outputs": [
        {
          "output_type": "stream",
          "name": "stdout",
          "text": [
            "Drive already mounted at /content/drive; to attempt to forcibly remount, call drive.mount(\"/content/drive\", force_remount=True).\n"
          ]
        }
      ]
    },
    {
      "cell_type": "code",
      "source": [
        "from imblearn.over_sampling import SMOTE\n",
        "from collections import Counter\n"
      ],
      "metadata": {
        "id": "I6NjqD4OlZaC"
      },
      "execution_count": null,
      "outputs": []
    },
    {
      "cell_type": "code",
      "source": [
        "from imblearn.over_sampling import SMOTENC"
      ],
      "metadata": {
        "id": "A0KXIWmJme-Y"
      },
      "execution_count": null,
      "outputs": []
    },
    {
      "cell_type": "code",
      "source": [
        "from sklearn.utils.class_weight import compute_class_weight"
      ],
      "metadata": {
        "id": "tk2y8kH_33_w"
      },
      "execution_count": null,
      "outputs": []
    },
    {
      "cell_type": "code",
      "source": [
        "from xgboost import XGBClassifier"
      ],
      "metadata": {
        "id": "UP4NnpnZE7Qm"
      },
      "execution_count": null,
      "outputs": []
    },
    {
      "cell_type": "code",
      "source": [
        "from sklearn.metrics import roc_auc_score\n"
      ],
      "metadata": {
        "id": "Ent68n87PBkj"
      },
      "execution_count": null,
      "outputs": []
    },
    {
      "cell_type": "code",
      "source": [
        "if torch.cuda.is_available():\n",
        "    device = torch.device(\"cuda\")\n",
        "    print(\"CUDA kullanılıyor. GPU ile işlem yapılacak.\")\n",
        "    batch_size = 512\n",
        "else:\n",
        "    device = torch.device(\"cpu\")\n",
        "    print(\"CUDA desteklenmiyor, işlemler CPU'da gerçekleştirilecek.\")"
      ],
      "metadata": {
        "colab": {
          "base_uri": "https://localhost:8080/"
        },
        "id": "8JWpgknzIOI1",
        "outputId": "cd51920e-d242-44e4-eabd-b1417ffecfb2"
      },
      "execution_count": null,
      "outputs": [
        {
          "output_type": "stream",
          "name": "stdout",
          "text": [
            "CUDA kullanılıyor. GPU ile işlem yapılacak.\n"
          ]
        }
      ]
    },
    {
      "cell_type": "code",
      "source": [
        "import os\n",
        "os.environ[\"HF_HOME\"] = \"/root/.cache/huggingface\"\n",
        "\n",
        "\n",
        "nltk.download('stopwords')\n",
        "stop_words = set(stopwords.words('english'))\n",
        "stemmer = PorterStemmer()\n"
      ],
      "metadata": {
        "colab": {
          "base_uri": "https://localhost:8080/"
        },
        "id": "7voOkp0mIQwQ",
        "outputId": "0c523f4c-96dd-4212-dfcd-b1926498dd25"
      },
      "execution_count": null,
      "outputs": [
        {
          "output_type": "stream",
          "name": "stderr",
          "text": [
            "[nltk_data] Downloading package stopwords to /root/nltk_data...\n",
            "[nltk_data]   Unzipping corpora/stopwords.zip.\n"
          ]
        }
      ]
    },
    {
      "cell_type": "code",
      "source": [
        "df=pd.read_csv(\"startupdataset.csv\")"
      ],
      "metadata": {
        "id": "Mu7xxR-yISGD"
      },
      "execution_count": null,
      "outputs": []
    },
    {
      "cell_type": "code",
      "source": [
        "df.isnull().sum()"
      ],
      "metadata": {
        "colab": {
          "base_uri": "https://localhost:8080/",
          "height": 523
        },
        "id": "luftwwU3IU6r",
        "outputId": "4e488bd7-847c-4e28-8bf3-faec60a19560"
      },
      "execution_count": null,
      "outputs": [
        {
          "output_type": "execute_result",
          "data": {
            "text/plain": [
              "permalink                0\n",
              "name                     1\n",
              "homepage_url          5058\n",
              "category_list         3148\n",
              "funding_total_usd        0\n",
              "status                   0\n",
              "country_code          6958\n",
              "state_code            8547\n",
              "region                8030\n",
              "city                  8028\n",
              "funding_rounds           0\n",
              "founded_at           15221\n",
              "first_funding_at        24\n",
              "last_funding_at          0\n",
              "dtype: int64"
            ],
            "text/html": [
              "<div>\n",
              "<style scoped>\n",
              "    .dataframe tbody tr th:only-of-type {\n",
              "        vertical-align: middle;\n",
              "    }\n",
              "\n",
              "    .dataframe tbody tr th {\n",
              "        vertical-align: top;\n",
              "    }\n",
              "\n",
              "    .dataframe thead th {\n",
              "        text-align: right;\n",
              "    }\n",
              "</style>\n",
              "<table border=\"1\" class=\"dataframe\">\n",
              "  <thead>\n",
              "    <tr style=\"text-align: right;\">\n",
              "      <th></th>\n",
              "      <th>0</th>\n",
              "    </tr>\n",
              "  </thead>\n",
              "  <tbody>\n",
              "    <tr>\n",
              "      <th>permalink</th>\n",
              "      <td>0</td>\n",
              "    </tr>\n",
              "    <tr>\n",
              "      <th>name</th>\n",
              "      <td>1</td>\n",
              "    </tr>\n",
              "    <tr>\n",
              "      <th>homepage_url</th>\n",
              "      <td>5058</td>\n",
              "    </tr>\n",
              "    <tr>\n",
              "      <th>category_list</th>\n",
              "      <td>3148</td>\n",
              "    </tr>\n",
              "    <tr>\n",
              "      <th>funding_total_usd</th>\n",
              "      <td>0</td>\n",
              "    </tr>\n",
              "    <tr>\n",
              "      <th>status</th>\n",
              "      <td>0</td>\n",
              "    </tr>\n",
              "    <tr>\n",
              "      <th>country_code</th>\n",
              "      <td>6958</td>\n",
              "    </tr>\n",
              "    <tr>\n",
              "      <th>state_code</th>\n",
              "      <td>8547</td>\n",
              "    </tr>\n",
              "    <tr>\n",
              "      <th>region</th>\n",
              "      <td>8030</td>\n",
              "    </tr>\n",
              "    <tr>\n",
              "      <th>city</th>\n",
              "      <td>8028</td>\n",
              "    </tr>\n",
              "    <tr>\n",
              "      <th>funding_rounds</th>\n",
              "      <td>0</td>\n",
              "    </tr>\n",
              "    <tr>\n",
              "      <th>founded_at</th>\n",
              "      <td>15221</td>\n",
              "    </tr>\n",
              "    <tr>\n",
              "      <th>first_funding_at</th>\n",
              "      <td>24</td>\n",
              "    </tr>\n",
              "    <tr>\n",
              "      <th>last_funding_at</th>\n",
              "      <td>0</td>\n",
              "    </tr>\n",
              "  </tbody>\n",
              "</table>\n",
              "</div><br><label><b>dtype:</b> int64</label>"
            ]
          },
          "metadata": {},
          "execution_count": 12
        }
      ]
    },
    {
      "cell_type": "code",
      "source": [
        "json_file = \"crunchbase_filtered_results.json\"\n",
        "with open(json_file, \"r\", encoding=\"utf-8\") as f:\n",
        "    json_data = json.load(f)\n",
        "\n",
        "# JSON verisini permalink bazında dictionary formatına çevir\n",
        "json_dict = {f\"/organization/{item['permalink']}\": item[\"short_description\"] for item in json_data}\n",
        "\n",
        "# Category_list sütunu boş olan ve permalink eşleşen satırları güncelle\n",
        "for index, row in df.iterrows():\n",
        "    if pd.isna(row[\"category_list\"]) and row[\"permalink\"] in json_dict:\n",
        "        df.at[index, \"category_list\"] = json_dict[row[\"permalink\"]]\n",
        "\n",
        "# Güncellenmiş CSV dosyasını kaydet\n",
        "df.to_csv(\"updated_startupdataset.csv\", index=False)\n"
      ],
      "metadata": {
        "id": "kMO3-a1yIYuM"
      },
      "execution_count": null,
      "outputs": []
    },
    {
      "cell_type": "code",
      "source": [
        "df=pd.read_csv(\"updated_startupdataset.csv\")\n",
        "\n",
        "\n",
        "df = df.dropna(subset=['category_list'])\n",
        "\n",
        "df.to_csv(\"updated_startupdataset.csv\", index=False)\n"
      ],
      "metadata": {
        "id": "sCp5TdqmIaRo"
      },
      "execution_count": null,
      "outputs": []
    },
    {
      "cell_type": "code",
      "source": [
        "df.isnull().sum()"
      ],
      "metadata": {
        "colab": {
          "base_uri": "https://localhost:8080/",
          "height": 523
        },
        "id": "Hd0sbYAuIdSZ",
        "outputId": "c70ca718-2cbf-4656-a8d3-131888b8b25f"
      },
      "execution_count": null,
      "outputs": [
        {
          "output_type": "execute_result",
          "data": {
            "text/plain": [
              "permalink                0\n",
              "name                     1\n",
              "homepage_url          4852\n",
              "category_list            0\n",
              "funding_total_usd        0\n",
              "status                   0\n",
              "country_code          6649\n",
              "state_code            8231\n",
              "region                7714\n",
              "city                  7712\n",
              "funding_rounds           0\n",
              "founded_at           14946\n",
              "first_funding_at        24\n",
              "last_funding_at          0\n",
              "dtype: int64"
            ],
            "text/html": [
              "<div>\n",
              "<style scoped>\n",
              "    .dataframe tbody tr th:only-of-type {\n",
              "        vertical-align: middle;\n",
              "    }\n",
              "\n",
              "    .dataframe tbody tr th {\n",
              "        vertical-align: top;\n",
              "    }\n",
              "\n",
              "    .dataframe thead th {\n",
              "        text-align: right;\n",
              "    }\n",
              "</style>\n",
              "<table border=\"1\" class=\"dataframe\">\n",
              "  <thead>\n",
              "    <tr style=\"text-align: right;\">\n",
              "      <th></th>\n",
              "      <th>0</th>\n",
              "    </tr>\n",
              "  </thead>\n",
              "  <tbody>\n",
              "    <tr>\n",
              "      <th>permalink</th>\n",
              "      <td>0</td>\n",
              "    </tr>\n",
              "    <tr>\n",
              "      <th>name</th>\n",
              "      <td>1</td>\n",
              "    </tr>\n",
              "    <tr>\n",
              "      <th>homepage_url</th>\n",
              "      <td>4852</td>\n",
              "    </tr>\n",
              "    <tr>\n",
              "      <th>category_list</th>\n",
              "      <td>0</td>\n",
              "    </tr>\n",
              "    <tr>\n",
              "      <th>funding_total_usd</th>\n",
              "      <td>0</td>\n",
              "    </tr>\n",
              "    <tr>\n",
              "      <th>status</th>\n",
              "      <td>0</td>\n",
              "    </tr>\n",
              "    <tr>\n",
              "      <th>country_code</th>\n",
              "      <td>6649</td>\n",
              "    </tr>\n",
              "    <tr>\n",
              "      <th>state_code</th>\n",
              "      <td>8231</td>\n",
              "    </tr>\n",
              "    <tr>\n",
              "      <th>region</th>\n",
              "      <td>7714</td>\n",
              "    </tr>\n",
              "    <tr>\n",
              "      <th>city</th>\n",
              "      <td>7712</td>\n",
              "    </tr>\n",
              "    <tr>\n",
              "      <th>funding_rounds</th>\n",
              "      <td>0</td>\n",
              "    </tr>\n",
              "    <tr>\n",
              "      <th>founded_at</th>\n",
              "      <td>14946</td>\n",
              "    </tr>\n",
              "    <tr>\n",
              "      <th>first_funding_at</th>\n",
              "      <td>24</td>\n",
              "    </tr>\n",
              "    <tr>\n",
              "      <th>last_funding_at</th>\n",
              "      <td>0</td>\n",
              "    </tr>\n",
              "  </tbody>\n",
              "</table>\n",
              "</div><br><label><b>dtype:</b> int64</label>"
            ]
          },
          "metadata": {},
          "execution_count": 15
        }
      ]
    },
    {
      "cell_type": "code",
      "source": [
        "def clean_text(text):\n",
        "    text = str(text).lower()\n",
        "    text = text.replace('|', ' ')\n",
        "    text = re.sub(r'(?<=[a-z])(?=[A-Z])', ' ', text)\n",
        "    text = re.sub(r'[^a-z0-9\\s]', '', text)\n",
        "    text = re.sub(r'\\s+', ' ', text).strip()\n",
        "    return text\n",
        "\n",
        "df['category_list'] = df['category_list'].apply(clean_text)\n",
        "\n",
        "\n",
        "def tokenize_and_remove_stopwords(text):\n",
        "    words = text.split()\n",
        "    words = [word for word in words if word not in stop_words]\n",
        "    words = [stemmer.stem(word) for word in words]\n",
        "    return words\n",
        "\n",
        "df['category_tokens'] = df['category_list'].apply(tokenize_and_remove_stopwords)\n",
        "df.to_csv(\"preprocessed_startupdataset.csv\", index=False)"
      ],
      "metadata": {
        "id": "TFLca41eIiVC"
      },
      "execution_count": null,
      "outputs": []
    },
    {
      "cell_type": "code",
      "source": [
        "df=pd.read_csv(\"preprocessed_startupdataset.csv\")\n",
        "\n",
        "# bert\n",
        "tokenizer = BertTokenizer.from_pretrained(\"bert-base-uncased\", cache_dir=\"/root/.cache/huggingface\")\n",
        "model = BertModel.from_pretrained(\"bert-base-uncased\", cache_dir=\"/root/.cache/huggingface\").to(device)\n",
        "batch_size = 32\n",
        "def batch_bert_embedding(text_list):\n",
        "    inputs = tokenizer(text_list, return_tensors=\"pt\", padding=True, truncation=True, max_length=10)\n",
        "    inputs = {key: val.to(device) for key, val in inputs.items()}\n",
        "    with torch.no_grad():\n",
        "        outputs = model(**inputs)\n",
        "    return outputs.last_hidden_state[:, 0, :].cpu().tolist()\n",
        "\n",
        "\n",
        "embeddings = []\n",
        "for i in range(0, len(df), batch_size):\n",
        "    batch_texts = df['category_tokens'][i:i+batch_size].tolist()\n",
        "    batch_embeddings = batch_bert_embedding(batch_texts)\n",
        "    embeddings.extend(batch_embeddings)\n",
        "\n",
        "df['category_embedding'] = embeddings\n",
        "\n",
        "# ilk embedding degeri\n",
        "print(\"İlk embedding değeri:\", df['category_embedding'].iloc[0])\n",
        "\n",
        "\n",
        "df.to_csv(\"preprocessed_startupdataset.csv\", index=False)\n",
        "\n",
        "print(\"Ön işleme tamamlandı: Stopwords temizlendi, kelimeler köklerine indirildi, BERT vektörleri batch işleme ile çıkarıldı. Dosya kaydedildi: preprocessed_startupdataset.csv\")"
      ],
      "metadata": {
        "colab": {
          "base_uri": "https://localhost:8080/",
          "height": 336,
          "referenced_widgets": [
            "5ef5ba24b2c24be5a6f80e762212e9ed",
            "a50617fc4a2c4cf792b20c8d299426ee",
            "f5c4493582844214b2a96e66e6d8c32c",
            "373b297b10894fa4819a945f2689f020",
            "8e874ce3d6714dea8ad0800d9e0604da",
            "2702d468ef2c4bac9f0f0098d348ee4e",
            "545577329fe54d9a98aec74e86682e17",
            "f05ff2274d1b45fc8d20c8569e4f8201",
            "966759a0946247afa35437c983ea510c",
            "a737c949961d4de8ae1f484f054aea9b",
            "357e5e79d3574a3287d9bc4bdddf941b",
            "b63e5b7a13e7478f930a8e4bc614a576",
            "757fa29bb865473b99e20e9c003d3fc7",
            "6d03dc47293246b0a7c387d5530219da",
            "85f40ab32f6049ef9e033068fde7cef0",
            "20dbc37457034d24bd148b1e81a96a74",
            "e5f9ff22e5ec47aba231ab611c5028ed",
            "2b251e6549164188b4a8f0fda84eb50c",
            "0adc8a5239a648949cd812e70ff83649",
            "27fe1347b4b447a5ab53dc3ba44859c1",
            "615d32d8e33445f689890e169d5598f2",
            "46aa7d6a88a443e3985f4223b9b45e0c",
            "81e32a0bedd44b848700c5a006d66d08",
            "f0368c8a155b49fdb6bd509df6b16123",
            "878cd234ba874125baf67e4677429db0",
            "a4bc703eb165465f8a8fbc8a42eca8e3",
            "f80b81125500462392b196b89e391489",
            "b205dc5c5a464bafab88d70d3068b762",
            "e011537456e142ffadec97849ce99c31",
            "51027a25f9ba4295aada362ff5c73aca",
            "cf71e730d4e944e98213cf4fa8da4155",
            "25cf77bb0a5644618ddfcfecb1e9aabd",
            "d6d5968993ae4af0b7f89e308aa28de9",
            "aa70d078784343548c15aa07eb906052",
            "17c31a8737c04318bd95fe3fa2a34796",
            "22e3f286c8944dcb92b7cff807b9a5af",
            "1bd12971caa5413cbf1a2be3890ce5a6",
            "1137c6b4e1f7484eaf97cb356764a16e",
            "711a5aa7e6f84c9497832e199081aa0e",
            "e5307186bc504cb7b6f80f1ae9d164bc",
            "802be2ed43af402abf3b526f030008a2",
            "3b7715687bb44fbebf59021d08e958d6",
            "6e25f6524f0543e0865c345fd195bb14",
            "f21d9c0f81b04e6abedaba0ddb1cc128",
            "c5d06571cdeb46dab0ac5883f955ccff",
            "e212ab8ea7b34b25a21e945b38ddc0ef",
            "8f6f32df23c046c2906c98084562c0eb",
            "cbf6d28d091042ef8c1fefad7f032ab6",
            "6f8ab144b04e4649a4ba1ceec58def00",
            "68b62bbb361e4ce7a76b4c42e3d309d9",
            "6a3d724cb8734d5db19202bc56f5c0f2",
            "663db8f366b14df688e7adc89afa80b0",
            "c88671a927f348f1b76279ba0adb727b",
            "565ed7705596422284429d8554ae64b3",
            "46f3225c6de64a3b92a4ee2526ea8992"
          ]
        },
        "id": "4gadX5FYIrSf",
        "outputId": "9063b184-0861-4473-ad02-73661eaa7fcc"
      },
      "execution_count": null,
      "outputs": [
        {
          "output_type": "stream",
          "name": "stderr",
          "text": [
            "/usr/local/lib/python3.11/dist-packages/huggingface_hub/utils/_auth.py:94: UserWarning: \n",
            "The secret `HF_TOKEN` does not exist in your Colab secrets.\n",
            "To authenticate with the Hugging Face Hub, create a token in your settings tab (https://huggingface.co/settings/tokens), set it as secret in your Google Colab and restart your session.\n",
            "You will be able to reuse this secret in all of your notebooks.\n",
            "Please note that authentication is recommended but still optional to access public models or datasets.\n",
            "  warnings.warn(\n"
          ]
        },
        {
          "output_type": "display_data",
          "data": {
            "text/plain": [
              "tokenizer_config.json:   0%|          | 0.00/48.0 [00:00<?, ?B/s]"
            ],
            "application/vnd.jupyter.widget-view+json": {
              "version_major": 2,
              "version_minor": 0,
              "model_id": "5ef5ba24b2c24be5a6f80e762212e9ed"
            }
          },
          "metadata": {}
        },
        {
          "output_type": "display_data",
          "data": {
            "text/plain": [
              "vocab.txt:   0%|          | 0.00/232k [00:00<?, ?B/s]"
            ],
            "application/vnd.jupyter.widget-view+json": {
              "version_major": 2,
              "version_minor": 0,
              "model_id": "b63e5b7a13e7478f930a8e4bc614a576"
            }
          },
          "metadata": {}
        },
        {
          "output_type": "display_data",
          "data": {
            "text/plain": [
              "tokenizer.json:   0%|          | 0.00/466k [00:00<?, ?B/s]"
            ],
            "application/vnd.jupyter.widget-view+json": {
              "version_major": 2,
              "version_minor": 0,
              "model_id": "81e32a0bedd44b848700c5a006d66d08"
            }
          },
          "metadata": {}
        },
        {
          "output_type": "display_data",
          "data": {
            "text/plain": [
              "config.json:   0%|          | 0.00/570 [00:00<?, ?B/s]"
            ],
            "application/vnd.jupyter.widget-view+json": {
              "version_major": 2,
              "version_minor": 0,
              "model_id": "aa70d078784343548c15aa07eb906052"
            }
          },
          "metadata": {}
        },
        {
          "output_type": "display_data",
          "data": {
            "text/plain": [
              "model.safetensors:   0%|          | 0.00/440M [00:00<?, ?B/s]"
            ],
            "application/vnd.jupyter.widget-view+json": {
              "version_major": 2,
              "version_minor": 0,
              "model_id": "c5d06571cdeb46dab0ac5883f955ccff"
            }
          },
          "metadata": {}
        },
        {
          "output_type": "stream",
          "name": "stdout",
          "text": [
            "İlk embedding değeri: [0.12721127271652222, 0.17106027901172638, -0.08594249933958054, -0.23734673857688904, -0.27755317091941833, -0.33221322298049927, 0.22691935300827026, 0.2778116464614868, -0.3725869357585907, -0.09925819933414459, -0.36772143840789795, 0.18280747532844543, -0.02741527184844017, 0.29849621653556824, 0.5323564410209656, 0.24069736897945404, -0.2989821135997772, 0.2881543040275574, 0.3228912353515625, -0.36016228795051575, -0.11076338589191437, -0.06548774987459183, -0.10250464081764221, -0.23778215050697327, -0.03863394632935524, -0.06835698336362839, 0.2556473910808563, -0.34545719623565674, -0.206440269947052, 0.44771939516067505, -0.06104670464992523, 0.18020114302635193, -0.2473464459180832, 0.26183849573135376, 0.4510001540184021, -0.07755320519208908, 0.12564322352409363, 0.09406585991382599, 0.17569506168365479, 0.20377516746520996, 0.10287623852491379, 0.12085306644439697, 0.2138552963733673, -0.17451660335063934, -0.10471345484256744, -0.18020811676979065, -2.7248330116271973, -0.14758995175361633, -0.4533158540725708, 0.028937820345163345, -0.1473478376865387, 0.025938410311937332, 0.3460536599159241, 0.29216036200523376, -0.047039132565259933, 0.16138769686222076, -0.2077794373035431, 0.13212236762046814, 0.2011345475912094, -0.12481126189231873, 0.28979963064193726, 0.11001726984977722, -0.2139403074979782, 0.07655859738588333, 0.17808222770690918, -0.26953819394111633, -0.03144610673189163, 0.2870143949985504, -0.4394850432872772, 0.31832781434059143, -0.7203524708747864, -0.28124168515205383, 0.2282223105430603, -0.2626139521598816, 0.13073480129241943, -0.18228581547737122, -0.011360959149897099, -0.006759570445865393, -0.18255281448364258, -0.08320163935422897, 0.05983567237854004, 0.5357915759086609, 0.2404176890850067, -0.030635759234428406, 0.27762478590011597, 0.22399269044399261, -0.09167197346687317, -0.15095385909080505, 0.3796234130859375, 0.5939446687698364, -0.2603359818458557, 0.07411234080791473, 0.21249862015247345, 0.08223414421081543, 0.4989030957221985, -0.03573503717780113, 0.060707442462444305, -0.3631162941455841, -0.24553576111793518, -0.01564609631896019, -0.14858309924602509, -0.2775712311267853, 0.3828203082084656, -0.25529745221138, -0.17115502059459686, -0.19494189321994781, -0.142796590924263, -0.4069373607635498, -0.021847769618034363, -2.579887866973877, 0.22576363384723663, 0.3334273397922516, -0.2149048149585724, -0.24767398834228516, 0.025916054844856262, 0.26333656907081604, -0.09645692259073257, 0.02850867062807083, 0.07173372060060501, 0.32697397470474243, -0.14425943791866302, 0.49892935156822205, -0.23961934447288513, 0.16535300016403198, 0.2085479348897934, 0.13599887490272522, 0.3423680067062378, -0.17737092077732086, 0.14476057887077332, 0.2832316756248474, 0.15631182491779327, 0.8292641043663025, -0.0792737677693367, -0.5572407841682434, -0.04426804184913635, 0.10734983533620834, 0.5735321640968323, 0.0801016166806221, -0.004952935967594385, -0.1545785665512085, -0.4135258197784424, -0.4023340940475464, -3.2278730869293213, 0.04033267870545387, 0.46080008149147034, 0.26307857036590576, -0.03280993178486824, 0.09988240152597427, 0.33351993560791016, 0.1253340095281601, -0.21448259055614471, 0.34331315755844116, 0.08351132273674011, 0.33922290802001953, -0.11097482591867447, -0.10903923213481903, 0.21115434169769287, 0.06959518790245056, -0.10891466587781906, 0.361607164144516, 0.11310041695833206, -0.14653222262859344, 0.12678439915180206, -0.0930132269859314, -0.1417371928691864, 0.1265508234500885, 0.17960195243358612, 0.07548533380031586, 0.3806157112121582, -0.18915042281150818, -0.04631192982196808, -0.30105987191200256, 0.4407730996608734, -0.037214819341897964, 0.3410240113735199, 0.04803387075662613, 0.1934099942445755, 0.2738005518913269, 0.009693651460111141, 0.26127296686172485, -0.27417075634002686, 0.014786610379815102, -0.05670927092432976, 0.11976074427366257, 0.5621788501739502, -0.30830079317092896, 0.10225168615579605, -0.1977432370185852, -0.19849175214767456, 0.1062014251947403, -0.15009136497974396, -0.42465388774871826, 0.14032557606697083, -0.22826853394508362, 0.41759157180786133, 0.19569066166877747, -0.17828448116779327, -0.3838220536708832, 0.513163149356842, 0.2291194349527359, 0.05162118375301361, 0.07256926596164703, -0.27296969294548035, -0.030499134212732315, -0.3786247968673706, 3.4793522357940674, -0.03859865292906761, -0.3053193688392639, -0.1370118260383606, 0.04605100676417351, 0.024147404357790947, -0.13890387117862701, -0.10784812271595001, -0.46911486983299255, -0.14854124188423157, 0.0766996294260025, 0.2905537784099579, 0.17616234719753265, -0.3033941090106964, -0.10209827870130539, 0.3349944055080414, 0.08489638566970825, 0.176139697432518, 0.27688050270080566, -0.10217718034982681, 0.47807517647743225, 0.036954861134290695, 0.3763536810874939, -0.018329938873648643, -1.370937705039978, 0.249943807721138, 0.24472561478614807, -0.2272213101387024, 0.14340439438819885, -0.38290277123451233, 0.013888845220208168, -0.03299429640173912, 0.09834221750497818, 0.038173701614141464, -0.3112448751926422, 0.2607126235961914, 0.09098706394433975, -0.007124734576791525, 0.013334578834474087, -0.15103256702423096, 0.11648585647344589, 0.3217375576496124, -0.22945636510849, -0.15630382299423218, 0.24080996215343475, 0.05033490061759949, 0.05462116003036499, -0.22710849344730377, -0.21758829057216644, -0.17065420746803284, 0.20750921964645386, 0.3020994961261749, 0.059009067714214325, -0.15483681857585907, 0.11999695003032684, -0.1856674998998642, 0.0951937809586525, 0.23631960153579712, -0.09582360833883286, -0.6249238848686218, -0.087644062936306, 0.1550629585981369, -0.2292584925889969, 0.040114521980285645, 0.10037118196487427, 0.017807068303227425, -0.320230096578598, -0.2677825391292572, -3.7672715187072754, 0.1526990830898285, 0.1319359838962555, 0.013552840799093246, 0.22712194919586182, -0.1029028594493866, -0.11446381360292435, -0.16959643363952637, 0.015011859126389027, -0.22190521657466888, 0.23925036191940308, 0.08256927877664566, 0.19378603994846344, 0.3079000413417816, -0.6520324945449829, 0.3377548158168793, 0.2572604715824127, -0.023791028186678886, 0.2908434569835663, 0.1137440875172615, 0.21244476735591888, 0.4351845979690552, -0.14233623445034027, -0.07681754231452942, 0.2724836468696594, -0.38350528478622437, -0.45371192693710327, -0.17802929878234863, 0.2777640223503113, 0.033938098698854446, -0.2914629578590393, -0.09918887913227081, 0.15701539814472198, 0.061191219836473465, 0.10835813730955124, -3.7372665405273438, 0.026529600843787193, -0.07131721079349518, -0.15134204924106598, -0.1738000214099884, -0.00011398849892430007, 0.20915143191814423, -0.12482471019029617, -0.24387603998184204, -0.16500769555568695, 0.10802232474088669, -0.2771177589893341, -0.1889379471540451, 0.39980190992355347, 0.3909170627593994, -0.016363102942705154, 0.20407047867774963, 0.2028728574514389, -0.06676797568798065, 0.2154676616191864, -0.22261758148670197, 0.19975779950618744, 0.0222164336591959, -0.12795500457286835, 0.15179316699504852, -0.00992534402757883, -0.12861543893814087, 0.04031127691268921, -0.140401691198349, 0.09575918316841125, -0.05029004067182541, -0.022033866494894028, -0.170256108045578, -0.022014429792761803, -0.4935586452484131, -0.2812371253967285, 0.0735824853181839, 0.3964177370071411, 0.5387265086174011, -0.023719199001789093, -0.1840554028749466, 0.8590739965438843, 0.09885808080434799, 0.0403662733733654, 0.5695862770080566, -0.027182957157492638, -0.12298029661178589, -0.11514445394277573, 0.023222895339131355, 0.015405906364321709, -0.012916496954858303, -0.011050963774323463, 1.0911322832107544, -0.14222490787506104, 0.05772070214152336, -0.10757625848054886, 0.39239028096199036, -0.09089216589927673, 0.06330868601799011, -0.1811438500881195, 0.8272232413291931, -0.11457965523004532, 0.23453128337860107, -0.11178231984376907, -0.09647747874259949, -0.07705055922269821, -0.06129525974392891, -0.36460939049720764, -0.12184057384729385, 0.06471151113510132, -0.21165074408054352, 0.20440424978733063, 0.030633358284831047, -0.8022037744522095, 0.0619836300611496, 0.27162373065948486, -0.260184645652771, 0.117146335542202, 0.17700184881687164, 0.029940953478217125, -0.14214178919792175, 0.11659841239452362, -0.22438153624534607, 0.2990188002586365, -0.402293860912323, 0.07215921580791473, -0.21426571905612946, 0.1578022837638855, -0.6666224002838135, 0.22284789383411407, -0.34985584020614624, 0.38962361216545105, 0.03298092260956764, 0.038033951073884964, -0.3280540704727173, 0.362349271774292, 0.3831544518470764, -0.5685547590255737, 0.1267293095588684, -0.13204120099544525, -0.0949142575263977, -0.37508177757263184, -0.49416738748550415, 0.2111583948135376, -0.4022923409938812, -0.011625228449702263, -0.0871201604604721, 0.41148072481155396, -0.10026223957538605, 0.06595684587955475, 0.08760799467563629, 0.5700520277023315, -0.1442091464996338, 0.2510196566581726, 1.0655075311660767, 0.05204329267144203, -0.3526211678981781, 0.2904445230960846, 0.608180820941925, 0.11623192578554153, 0.2130504995584488, 0.18055172264575958, 0.30587008595466614, 0.1736501008272171, -0.018732918426394463, -0.07913244515657425, 0.2633720338344574, -0.19021283090114594, -0.21445722877979279, -0.06877745687961578, 0.03534795716404915, -0.09154728800058365, -0.20278264582157135, -0.8417166471481323, -0.19991692900657654, -0.19437475502490997, 0.06695722043514252, 0.6657630801200867, 0.44189563393592834, 0.36158323287963867, 0.7331776022911072, 0.3611520528793335, 0.11381210386753082, 0.40955454111099243, 0.10104536265134811, 0.48187965154647827, 0.1162591502070427, 0.03193763643503189, -0.3486365079879761, 0.8135542273521423, -0.020932937040925026, -0.25567907094955444, -0.03501536324620247, -0.1955704689025879, 0.3770296275615692, -0.34014832973480225, -0.0641615092754364, 0.16266438364982605, -0.13743217289447784, -0.3235360383987427, 0.27266085147857666, 0.08804740756750107, -1.173706293106079, 0.28972092270851135, 0.3836839199066162, 0.11390703171491623, 0.2770056426525116, 0.09683383256196976, -0.30920353531837463, 0.484770804643631, 0.14646640419960022, 0.03566283360123634, -0.4723801910877228, -0.21583227813243866, -0.09111594408750534, -0.28550562262535095, -0.030581077560782433, 0.06630488485097885, 0.0657748356461525, 0.18061265349388123, 0.029146088287234306, 0.17430932819843292, -0.09641406685113907, 0.28437039256095886, -0.29171693325042725, -0.18323257565498352, 0.03163769841194153, -0.2707146406173706, -0.23043328523635864, 0.4677491784095764, 0.09332595020532608, 0.5023058652877808, 0.3654569983482361, -0.39222291111946106, -0.310776025056839, -0.26314932107925415, 0.18474747240543365, -0.045825399458408356, -0.15701548755168915, -0.10641272366046906, 0.38175565004348755, 0.4750996232032776, -0.28852757811546326, 0.5525181889533997, 0.01581268012523651, -0.24661944806575775, 0.4284288287162781, 0.20376263558864594, -0.28130823373794556, 0.35020580887794495, -0.08379334211349487, -0.25682124495506287, -0.3330254852771759, 0.0783928781747818, -0.43963876366615295, -0.16940626502037048, 0.16475887596607208, 0.023696983233094215, -0.16837561130523682, -0.06198907643556595, 0.05419382452964783, -0.06135411933064461, -0.1384727656841278, -0.07512947916984558, -0.050827205181121826, 0.5188432335853577, -0.5468459725379944, -0.7077882289886475, 0.17660383880138397, -0.13021014630794525, -0.42542764544487, 0.2736681401729584, 0.3415801525115967, 0.33243149518966675, -0.2630811631679535, -0.03647369146347046, -0.5425271987915039, 0.2438558042049408, -0.03833626210689545, 0.0010112172458320856, 0.4071198105812073, -0.20324841141700745, -0.17801067233085632, -0.45332100987434387, -0.32625699043273926, 0.3487794101238251, 0.18643297255039215, -0.08199280500411987, -0.3015437126159668, -0.16978198289871216, -0.16084466874599457, -0.16462373733520508, -0.42666077613830566, -0.629162073135376, 0.4406892955303192, -0.35898518562316895, 0.24185346066951752, -0.048346735537052155, 0.025210047140717506, -0.2165469229221344, 0.12459022551774979, -0.03933941572904587, -0.12373404204845428, 0.25803011655807495, 0.3498750925064087, 0.4579516649246216, -0.40117669105529785, 0.056987546384334564, 0.39126744866371155, 0.33880943059921265, -0.4863080680370331, 0.03592698276042938, -0.30417555570602417, 0.23591427505016327, 0.15134909749031067, -0.14257673919200897, 0.05145467817783356, -0.11723940074443817, 0.08850206434726715, -0.32773518562316895, 2.133802652359009, 0.05124546214938164, 0.2880638837814331, -0.009095021523535252, 0.41503074765205383, -0.2516692578792572, -0.10146265476942062, 0.25505226850509644, -0.1736035794019699, -0.06678588688373566, 0.2357979714870453, 0.12040361016988754, -0.18835178017616272, 0.5257459282875061, 0.2620800733566284, 0.44440460205078125, -0.29971712827682495, -0.09837744385004044, -0.6862549781799316, -0.29143279790878296, -0.33104661107063293, 0.3175714910030365, -0.07552783936262131, -0.20073202252388, 0.2653672397136688, -0.0673772320151329, 0.1618688404560089, -0.3657166361808777, 0.3060927987098694, -0.2912020683288574, 0.18148864805698395, 0.24383291602134705, -0.008253543637692928, 0.11205939948558807, -0.05269613489508629, 0.016620077192783356, 0.07237710058689117, -0.36040934920310974, -0.04155305027961731, 0.22219383716583252, 0.07028965651988983, -0.7094061970710754, 0.5210562944412231, 0.2892502248287201, 0.036723487079143524, 0.5568237900733948, -0.04003471881151199, 0.014888061210513115, 0.013838403858244419, 0.03037627600133419, 0.19554300606250763, 0.26312386989593506, -0.12884996831417084, 0.49036553502082825, -0.22490465641021729, -0.4428807497024536, 0.16119401156902313, 0.2346850484609604, -0.2803911566734314, 0.15124723315238953, 0.03709501400589943, 0.348466694355011, 0.042990054935216904, -0.34856829047203064, 0.2360565960407257, -0.186061292886734, -0.3967759609222412, 0.36475497484207153, -0.1271238923072815, -0.20501738786697388, 0.02007107064127922, 0.16174224019050598, 0.1548498272895813, 0.2774108648300171, 0.28113338351249695, -0.13888883590698242, 0.26660385727882385, -0.08091838657855988, -0.27827897667884827, -2.7333970069885254, 0.04151564836502075, -0.011432735249400139, 0.2887665033340454, 0.12214217334985733, 0.4237617254257202, 0.1388668417930603, -0.24081823229789734, -0.12265539914369583, -0.017554594203829765, 0.1769513487815857, 0.5684504508972168, 0.20259001851081848, 0.3112700283527374, 0.09484822303056717, 0.06684395670890808, 0.10606948286294937, -0.20248770713806152, -0.18679095804691315, 0.013506422750651836, 0.10963559150695801, 0.012311192229390144, -0.07062193751335144, 0.007135602645576, -0.2568778693675995, 0.46570295095443726, -0.105589859187603, -0.06491275131702423, 0.39701080322265625, 0.23509222269058228, 0.08858077973127365, 0.0050633568316698074, 0.24024131894111633, -0.1853371113538742, 0.06125960499048233, -0.5499342679977417, -0.012221148237586021, -0.3297930657863617, 0.5120967626571655, -0.11598890274763107, -0.30527904629707336, 0.2637866735458374, -0.33328431844711304, 0.04167908430099487, -0.22347502410411835, 0.047484301030635834, 0.04866550862789154, -0.47882556915283203, 0.2364015281200409, -0.3976236581802368, 0.04787273705005646, 0.12368527054786682, -0.24691897630691528, -0.04710035398602486, 0.5349374413490295, -0.06462293863296509, 0.21352799236774445, -0.24522244930267334, -0.172976553440094, 0.13706204295158386, 0.23536711931228638, 0.09324866533279419, -0.16549043357372284, 0.11951258033514023, 0.025940265506505966, -0.48708319664001465, -0.05753891170024872, -0.1493636667728424, 0.3807910978794098, -0.04172874242067337, -0.04542065039277077, -0.12505070865154266, 0.33961954712867737, -0.1698986440896988, 0.1588846892118454, 0.1646043211221695, -0.09416715055704117, 0.3046616017818451, 0.6742584705352783, -0.058018334209918976, 0.0687883272767067, -0.30228596925735474, 0.09087022393941879, 0.23759552836418152, 0.27034899592399597, -7.273585319519043, -0.11229367554187775, -0.08947568386793137, 0.01975255273282528, 0.17585179209709167, -0.07863471657037735, 0.07591453939676285, 0.2472078800201416, -0.050332486629486084, -0.12968817353248596, -0.05007006227970123, 0.13495567440986633, 0.03988609462976456, -0.5974938869476318, 0.46293362975120544, 0.77011638879776]\n",
            "Ön işleme tamamlandı: Stopwords temizlendi, kelimeler köklerine indirildi, BERT vektörleri batch işleme ile çıkarıldı. Dosya kaydedildi: preprocessed_startupdataset.csv\n"
          ]
        }
      ]
    },
    {
      "cell_type": "code",
      "source": [
        "def safe_convert_embedding(x):\n",
        "    try:\n",
        "        if isinstance(x, str):\n",
        "            return np.array(literal_eval(x), dtype=np.float32)\n",
        "        elif isinstance(x, list):\n",
        "            return np.array(x, dtype=np.float32)\n",
        "        else:\n",
        "            return np.nan\n",
        "    except Exception:\n",
        "        return np.nan\n",
        "\n",
        "\n",
        "\n",
        "def fill_missing_funding(df):\n",
        "    df_filled = df.copy()\n",
        "\n",
        "\n",
        "    df_filled['funding_total_usd'] = df_filled['funding_total_usd'].replace('-', np.nan)\n",
        "    df_filled['funding_total_usd'] = pd.to_numeric(df_filled['funding_total_usd'], errors='coerce')\n",
        "\n",
        "\n",
        "    df_filled['category_embedding'] = df_filled['category_embedding'].astype(str).apply(safe_convert_embedding)\n",
        "\n",
        "\n",
        "    df_missing = df_filled[df_filled['funding_total_usd'].isna()].copy()\n",
        "    df_known = df_filled.dropna(subset=['funding_total_usd']).copy()\n",
        "\n",
        "\n",
        "    df_known = df_known.dropna(subset=['category_embedding']).copy()\n",
        "    known_embeddings = np.stack(df_known['category_embedding'].values)\n",
        "    missing_embeddings = np.stack(df_missing['category_embedding'].dropna().values)\n",
        "\n",
        "    # FAISS ile hızlı nearest neighbor hesaplaması\n",
        "    d = known_embeddings.shape[1]\n",
        "    index = faiss.IndexFlatL2(d)\n",
        "    index.add(known_embeddings)\n",
        "\n",
        "\n",
        "    _,nearest_indices = index.search(missing_embeddings,1)\n",
        "\n",
        "    missing_funding_values = {}\n",
        "    for idx, row in enumerate(df_missing.itertuples()):\n",
        "        predicted_value = df_known.iloc[nearest_indices[idx][0]]['funding_total_usd']\n",
        "        missing_funding_values[row.permalink] = predicted_value\n",
        "\n",
        "\n",
        "    for permalink, predicted_value in missing_funding_values.items():\n",
        "        df_filled.loc[df_filled['permalink'] == permalink, 'funding_total_usd'] = predicted_value\n",
        "\n",
        "\n",
        "    df_filled.to_csv(\"preprocessed_startupdataset.csv\", index=False)\n",
        "    print(\"Tam veri seti preprocessed_startupdataset.csv olarak güncellendi.\")\n",
        "\n",
        "    return df_filled\n",
        "\n",
        "\n",
        "df = fill_missing_funding(df)\n",
        "\n",
        "print(\"İşlem tamamlandı. FAISS kullanarak en hızlı şekilde funding_total_usd değerleri tahmin edilerek güncellendi.\")"
      ],
      "metadata": {
        "colab": {
          "base_uri": "https://localhost:8080/"
        },
        "id": "6YvAO7r1JJNx",
        "outputId": "ecea2d21-e220-400d-d117-66025e1a78f8"
      },
      "execution_count": null,
      "outputs": [
        {
          "output_type": "stream",
          "name": "stdout",
          "text": [
            "Tam veri seti preprocessed_startupdataset.csv olarak güncellendi.\n",
            "İşlem tamamlandı. FAISS kullanarak en hızlı şekilde funding_total_usd değerleri tahmin edilerek güncellendi.\n"
          ]
        }
      ]
    },
    {
      "cell_type": "code",
      "source": [
        "#eksik değerleri yalnızca updated_startupdataset.csv'ye kaydetme -> kopya\n",
        "\n",
        "df_updated = pd.read_csv(\"updated_startupdataset.csv\")\n",
        "\n",
        "\n",
        "for idx, row in df_updated.iterrows():\n",
        "    if row['funding_total_usd'] == '-':\n",
        "        matching_row = df[df['permalink'] == row['permalink']]\n",
        "        if not matching_row.empty:\n",
        "            df_updated.at[idx, 'funding_total_usd'] = matching_row['funding_total_usd'].values[0]\n",
        "\n",
        "\n",
        "df_updated.to_csv(\"updated_startupdataset.csv\", index=False)\n",
        "print(\"Eksik funding_total_usd değerleri updated_startupdataset.csv dosyasına aktarıldı.\")"
      ],
      "metadata": {
        "colab": {
          "base_uri": "https://localhost:8080/"
        },
        "id": "m05_TmBOMjmO",
        "outputId": "156804af-607a-4303-92d1-98627d54248c"
      },
      "execution_count": null,
      "outputs": [
        {
          "output_type": "stream",
          "name": "stdout",
          "text": [
            "Eksik funding_total_usd değerleri updated_startupdataset.csv dosyasına aktarıldı.\n"
          ]
        }
      ]
    },
    {
      "cell_type": "code",
      "source": [
        "df=pd.read_csv(\"updated_startupdataset.csv\")\n",
        "df.isnull().sum()"
      ],
      "metadata": {
        "colab": {
          "base_uri": "https://localhost:8080/",
          "height": 523
        },
        "id": "h2h4qErYM8hE",
        "outputId": "7c0ef7f7-f3c2-4801-c2da-c0314901d316"
      },
      "execution_count": null,
      "outputs": [
        {
          "output_type": "execute_result",
          "data": {
            "text/plain": [
              "permalink                0\n",
              "name                     1\n",
              "homepage_url          4852\n",
              "category_list            0\n",
              "funding_total_usd        0\n",
              "status                   0\n",
              "country_code          6649\n",
              "state_code            8231\n",
              "region                7714\n",
              "city                  7712\n",
              "funding_rounds           0\n",
              "founded_at           14946\n",
              "first_funding_at        24\n",
              "last_funding_at          0\n",
              "dtype: int64"
            ],
            "text/html": [
              "<div>\n",
              "<style scoped>\n",
              "    .dataframe tbody tr th:only-of-type {\n",
              "        vertical-align: middle;\n",
              "    }\n",
              "\n",
              "    .dataframe tbody tr th {\n",
              "        vertical-align: top;\n",
              "    }\n",
              "\n",
              "    .dataframe thead th {\n",
              "        text-align: right;\n",
              "    }\n",
              "</style>\n",
              "<table border=\"1\" class=\"dataframe\">\n",
              "  <thead>\n",
              "    <tr style=\"text-align: right;\">\n",
              "      <th></th>\n",
              "      <th>0</th>\n",
              "    </tr>\n",
              "  </thead>\n",
              "  <tbody>\n",
              "    <tr>\n",
              "      <th>permalink</th>\n",
              "      <td>0</td>\n",
              "    </tr>\n",
              "    <tr>\n",
              "      <th>name</th>\n",
              "      <td>1</td>\n",
              "    </tr>\n",
              "    <tr>\n",
              "      <th>homepage_url</th>\n",
              "      <td>4852</td>\n",
              "    </tr>\n",
              "    <tr>\n",
              "      <th>category_list</th>\n",
              "      <td>0</td>\n",
              "    </tr>\n",
              "    <tr>\n",
              "      <th>funding_total_usd</th>\n",
              "      <td>0</td>\n",
              "    </tr>\n",
              "    <tr>\n",
              "      <th>status</th>\n",
              "      <td>0</td>\n",
              "    </tr>\n",
              "    <tr>\n",
              "      <th>country_code</th>\n",
              "      <td>6649</td>\n",
              "    </tr>\n",
              "    <tr>\n",
              "      <th>state_code</th>\n",
              "      <td>8231</td>\n",
              "    </tr>\n",
              "    <tr>\n",
              "      <th>region</th>\n",
              "      <td>7714</td>\n",
              "    </tr>\n",
              "    <tr>\n",
              "      <th>city</th>\n",
              "      <td>7712</td>\n",
              "    </tr>\n",
              "    <tr>\n",
              "      <th>funding_rounds</th>\n",
              "      <td>0</td>\n",
              "    </tr>\n",
              "    <tr>\n",
              "      <th>founded_at</th>\n",
              "      <td>14946</td>\n",
              "    </tr>\n",
              "    <tr>\n",
              "      <th>first_funding_at</th>\n",
              "      <td>24</td>\n",
              "    </tr>\n",
              "    <tr>\n",
              "      <th>last_funding_at</th>\n",
              "      <td>0</td>\n",
              "    </tr>\n",
              "  </tbody>\n",
              "</table>\n",
              "</div><br><label><b>dtype:</b> int64</label>"
            ]
          },
          "metadata": {},
          "execution_count": 20
        }
      ]
    },
    {
      "cell_type": "code",
      "source": [
        "preprocessed_file = \"preprocessed_startupdataset.csv\"\n",
        "updated_file = \"updated_startupdataset.csv\"\n",
        "\n",
        "df_preprocessed = pd.read_csv(preprocessed_file)\n",
        "df_updated = pd.read_csv(updated_file)\n",
        "\n",
        "\n",
        "def extract_domain(url):\n",
        "    try:\n",
        "        if pd.isna(url) or not isinstance(url, str):\n",
        "            return None, None\n",
        "\n",
        "        domain = urlparse(url).netloc\n",
        "        domain_parts = domain.split('.')\n",
        "\n",
        "\n",
        "        if len(domain_parts) < 2:\n",
        "            return domain, None\n",
        "\n",
        "        # ülke kodu olup olmadığını kontrol eden blok\n",
        "        if len(domain_parts) > 2 and len(domain_parts[-1]) == 2:  # .uk, .fr gibi kodlar 2 harfli bunları ülke kodu olarak kabul ediyoruz.\n",
        "            country_code = domain_parts[-1]\n",
        "        else:\n",
        "            country_code = None\n",
        "\n",
        "        return domain, country_code\n",
        "    except Exception:\n",
        "        return None, None\n",
        "\n",
        "\n",
        "df_missing_country = df_updated[df_updated['country_code'].isna() & df_updated['homepage_url'].notna()].copy()\n",
        "\n",
        "\n",
        "df_missing_country[['domain', 'estimated_country']] = df_missing_country['homepage_url'].apply(lambda x: pd.Series(extract_domain(x)))\n",
        "\n",
        "\n",
        "for index, row in df_missing_country.iterrows():\n",
        "    if pd.notna(row['estimated_country']):\n",
        "        df_preprocessed.loc[df_preprocessed['permalink'] == row['permalink'], 'country_code'] = row['estimated_country']\n",
        "        df_updated.loc[df_updated['permalink'] == row['permalink'], 'country_code'] = row['estimated_country']\n",
        "\n",
        "\n",
        "df_preprocessed.to_csv(\"preprocessed_startupdataset.csv\", index=False)\n",
        "df_updated.to_csv(\"updated_startupdataset.csv\", index=False)\n",
        "\n",
        "print(\"eksik ülke kodları başarıyla tahmin edildi ve her iki dataset güncellendi!\")"
      ],
      "metadata": {
        "id": "AwTseKyqNEsg"
      },
      "execution_count": null,
      "outputs": []
    },
    {
      "cell_type": "code",
      "source": [
        "df=pd.read_csv(\"updated_startupdataset.csv\")\n",
        "df.isnull().sum()"
      ],
      "metadata": {
        "colab": {
          "base_uri": "https://localhost:8080/",
          "height": 523
        },
        "id": "Xr4MYOi1NQsP",
        "outputId": "8582abed-6729-4408-e50a-05b8c7fe54d4"
      },
      "execution_count": null,
      "outputs": [
        {
          "output_type": "execute_result",
          "data": {
            "text/plain": [
              "permalink                0\n",
              "name                     1\n",
              "homepage_url          4852\n",
              "category_list            0\n",
              "funding_total_usd        0\n",
              "status                   0\n",
              "country_code          5859\n",
              "state_code            8231\n",
              "region                7714\n",
              "city                  7712\n",
              "funding_rounds           0\n",
              "founded_at           14946\n",
              "first_funding_at        24\n",
              "last_funding_at          0\n",
              "dtype: int64"
            ],
            "text/html": [
              "<div>\n",
              "<style scoped>\n",
              "    .dataframe tbody tr th:only-of-type {\n",
              "        vertical-align: middle;\n",
              "    }\n",
              "\n",
              "    .dataframe tbody tr th {\n",
              "        vertical-align: top;\n",
              "    }\n",
              "\n",
              "    .dataframe thead th {\n",
              "        text-align: right;\n",
              "    }\n",
              "</style>\n",
              "<table border=\"1\" class=\"dataframe\">\n",
              "  <thead>\n",
              "    <tr style=\"text-align: right;\">\n",
              "      <th></th>\n",
              "      <th>0</th>\n",
              "    </tr>\n",
              "  </thead>\n",
              "  <tbody>\n",
              "    <tr>\n",
              "      <th>permalink</th>\n",
              "      <td>0</td>\n",
              "    </tr>\n",
              "    <tr>\n",
              "      <th>name</th>\n",
              "      <td>1</td>\n",
              "    </tr>\n",
              "    <tr>\n",
              "      <th>homepage_url</th>\n",
              "      <td>4852</td>\n",
              "    </tr>\n",
              "    <tr>\n",
              "      <th>category_list</th>\n",
              "      <td>0</td>\n",
              "    </tr>\n",
              "    <tr>\n",
              "      <th>funding_total_usd</th>\n",
              "      <td>0</td>\n",
              "    </tr>\n",
              "    <tr>\n",
              "      <th>status</th>\n",
              "      <td>0</td>\n",
              "    </tr>\n",
              "    <tr>\n",
              "      <th>country_code</th>\n",
              "      <td>5859</td>\n",
              "    </tr>\n",
              "    <tr>\n",
              "      <th>state_code</th>\n",
              "      <td>8231</td>\n",
              "    </tr>\n",
              "    <tr>\n",
              "      <th>region</th>\n",
              "      <td>7714</td>\n",
              "    </tr>\n",
              "    <tr>\n",
              "      <th>city</th>\n",
              "      <td>7712</td>\n",
              "    </tr>\n",
              "    <tr>\n",
              "      <th>funding_rounds</th>\n",
              "      <td>0</td>\n",
              "    </tr>\n",
              "    <tr>\n",
              "      <th>founded_at</th>\n",
              "      <td>14946</td>\n",
              "    </tr>\n",
              "    <tr>\n",
              "      <th>first_funding_at</th>\n",
              "      <td>24</td>\n",
              "    </tr>\n",
              "    <tr>\n",
              "      <th>last_funding_at</th>\n",
              "      <td>0</td>\n",
              "    </tr>\n",
              "  </tbody>\n",
              "</table>\n",
              "</div><br><label><b>dtype:</b> int64</label>"
            ]
          },
          "metadata": {},
          "execution_count": 22
        }
      ]
    },
    {
      "cell_type": "code",
      "source": [
        "preprocessed_file = \"preprocessed_startupdataset.csv\"\n",
        "updated_file = \"updated_startupdataset.csv\"\n",
        "\n",
        "df_preprocessed = pd.read_csv(preprocessed_file)\n",
        "df_updated = pd.read_csv(updated_file)\n",
        "\n",
        "# ISO 3166-1 alpha-3 veya yanlış formatta olanları alpha-2'ye çevirme fonksiyon\n",
        "def convert_to_iso2(code, lowercase=False):\n",
        "    try:\n",
        "        if isinstance(code, str):\n",
        "            code = code.upper()\n",
        "            country = pycountry.countries.get(alpha_3=code)\n",
        "            if country:\n",
        "                return country.alpha_2.lower() if lowercase else country.alpha_2\n",
        "        return code if len(code) == 2 else None\n",
        "    except:\n",
        "        return None\n",
        "\n",
        "df_updated['country_code'] = df_updated['country_code'].apply(lambda x: convert_to_iso2(x, lowercase=False))\n",
        "\n",
        "\n",
        "df_preprocessed['country_code'] = df_preprocessed['country_code'].apply(lambda x: convert_to_iso2(x, lowercase=True))\n",
        "\n",
        "\n",
        "df_updated.to_csv(\"updated_startupdataset.csv\", index=False)\n",
        "df_preprocessed.to_csv(\"preprocessed_startupdataset.csv\", index=False)\n",
        "\n",
        "print(\"ulke kodları 2 harfli ISO-2 formatına çevrildi ve her iki dataset güncellendi!\")"
      ],
      "metadata": {
        "id": "D4JPVjntNYUP"
      },
      "execution_count": null,
      "outputs": []
    },
    {
      "cell_type": "code",
      "source": [
        "preprocessed_file = \"preprocessed_startupdataset.csv\"\n",
        "df_preprocessed = pd.read_csv(preprocessed_file)\n",
        "\n",
        "# ulke kodu var city olmayanların sayısı\n",
        "missing_city_count = df_preprocessed[(df_preprocessed['country_code'].notna()) & (df_preprocessed['city'].isna())].shape[0]\n",
        "\n",
        "print(f\"ulke kodu olup city bilgisi olmayan veri sayısı: {missing_city_count}\")"
      ],
      "metadata": {
        "id": "0tLjs0fBNhPG"
      },
      "execution_count": null,
      "outputs": []
    },
    {
      "cell_type": "code",
      "source": [
        "#file_path = \"preprocessed_startupdataset.csv\"\n",
        "#df = pd.read_csv(file_path)\n",
        "\n",
        "\n",
        "#most_common_cities = df.groupby('country_code')['city'].agg(lambda x: x.mode()[0] if not x.mode().empty else None)\n",
        "\n",
        "\n",
        "#df['city'] = df.apply(\n",
        " #   lambda row: most_common_cities[row['country_code']] if pd.isna(row['city']) and pd.notna(row['country_code']) else row['city'],\n",
        "  #  axis=1\n",
        "#)\n",
        "\n",
        "\n",
        "#missing_city_count_after = df[(df['country_code'].notna()) & (df['city'].isna())].shape[0]\n",
        "\n",
        "#print(f\"✅ Güncelleme tamamlandı! Eksik city bilgisi kalan veri sayısı: {missing_city_count_after}\")\n",
        "\n",
        "\n",
        "#df.to_csv(\"preprocessed_startupdataset.csv\", index=False)\n",
        "#print(\"🚀 Dosya başarıyla güncellendi!\")\n",
        "updated_path = \"updated_startupdataset.csv\"\n",
        "preprocessed_path = \"preprocessed_startupdataset.csv\"\n",
        "\n",
        "df_updated = pd.read_csv(updated_path)\n",
        "df_preprocessed = pd.read_csv(preprocessed_path)\n",
        "\n",
        "# **2️⃣ updated_startupdataset içindeki city bilgisi boş olanları bul**\n",
        "missing_city_permalinks = df_updated[df_updated['city'].isna()]['permalink'].tolist()\n",
        "\n",
        "# **3️⃣ Preprocessed dataset içinde bu permalinke sahip olan satırları bul ve city bilgisi varsa boşalt**\n",
        "df_preprocessed.loc[df_preprocessed['permalink'].isin(missing_city_permalinks), 'city'] = None\n",
        "\n",
        "missing_city_count = df_preprocessed[(df_preprocessed['country_code'].notna()) & (df_preprocessed['city'].isna())].shape[0]\n",
        "\n",
        "print(f\"ulke kodu olup city bilgisi olmayan veri sayısı: {missing_city_count}\")\n",
        "df_preprocessed.to_csv(\"preprocessed_startupdataset.csv\", index=False)"
      ],
      "metadata": {
        "id": "UsEYjeZSNlre"
      },
      "execution_count": null,
      "outputs": []
    },
    {
      "cell_type": "code",
      "source": [
        "df= pd.read_csv(\"preprocessed_startupdataset.csv\")\n",
        "missing_city_count = df_preprocessed[(df_preprocessed['country_code'].notna()) & (df_preprocessed['city'].isna())].shape[0]\n",
        "print(f\"ulke kodu olup city bilgisi olmayan veri sayısı: {missing_city_count}\")"
      ],
      "metadata": {
        "id": "y1bOnpJNNvaL"
      },
      "execution_count": null,
      "outputs": []
    },
    {
      "cell_type": "code",
      "source": [
        "original_file = \"preprocessed_startupdataset.csv\"\n",
        "\n",
        "\n",
        "backup_file = \"copy_preprocessed_startupdataset.csv\"\n",
        "\n",
        "shutil.copy(original_file, backup_file)"
      ],
      "metadata": {
        "colab": {
          "base_uri": "https://localhost:8080/",
          "height": 35
        },
        "id": "r-T7-JvBN1PE",
        "outputId": "ec300305-99ef-4097-a9bb-ad3d14407c10"
      },
      "execution_count": null,
      "outputs": [
        {
          "output_type": "execute_result",
          "data": {
            "text/plain": [
              "'copy_preprocessed_startupdataset.csv'"
            ],
            "application/vnd.google.colaboratory.intrinsic+json": {
              "type": "string"
            }
          },
          "metadata": {},
          "execution_count": 27
        }
      ]
    },
    {
      "cell_type": "code",
      "source": [
        "file_path = \"preprocessed_startupdataset.csv\"\n",
        "df = pd.read_csv(file_path)\n",
        "\n",
        "\n",
        "missing_city_count_before = df[(df['country_code'].notna()) & (df['city'].isna())].shape[0]\n",
        "print(f\" Güncelleme öncesi eksik city bilgisi sayısı: {missing_city_count_before}\")\n",
        "\n",
        "\n",
        "most_common_cities = df[df['city'].notna()].groupby('country_code')['city'].agg(lambda x: x.mode()[0] if not x.mode().empty else None).to_dict()\n",
        "\n",
        "\n",
        "def fill_missing_city(row):\n",
        "    if pd.isna(row['city']) and pd.notna(row['country_code']):  # eger şehir eksikse ve ülke kodu varsa\n",
        "        return most_common_cities.get(row['country_code'], None)  # O ülkeye ait en sık şehir varsa ata\n",
        "    return row['city']\n",
        "\n",
        "df.loc[df['city'].isna() & df['country_code'].notna(), 'city'] = df[df['city'].isna() & df['country_code'].notna()].apply(fill_missing_city, axis=1)\n",
        "\n",
        "\n",
        "missing_city_count_after = df[(df['country_code'].notna()) & (df['city'].isna())].shape[0]\n",
        "filled_count = missing_city_count_before - missing_city_count_after\n",
        "\n",
        "print(f\"guncelleme tamamlandı! Eksik city bilgisi kalan veri sayısı: {missing_city_count_after}\")\n",
        "print(f\"doldurulan şehir bilgisi sayısı: {filled_count}\")\n",
        "\n",
        "\n",
        "df.to_csv(\"preprocessed_startupdataset.csv\", index=False)"
      ],
      "metadata": {
        "id": "CKfyVl1BN2gn"
      },
      "execution_count": null,
      "outputs": []
    },
    {
      "cell_type": "code",
      "source": [
        "df=pd.read_csv(\"preprocessed_startupdataset.csv\")\n",
        "df.isnull().sum()"
      ],
      "metadata": {
        "colab": {
          "base_uri": "https://localhost:8080/",
          "height": 585
        },
        "id": "8QnwVp9NN6Sj",
        "outputId": "8cc497dc-4564-4581-f0c4-1465e918f196"
      },
      "execution_count": null,
      "outputs": [
        {
          "output_type": "execute_result",
          "data": {
            "text/plain": [
              "permalink                 0\n",
              "name                      1\n",
              "homepage_url           4852\n",
              "category_list             0\n",
              "funding_total_usd         0\n",
              "status                    0\n",
              "country_code           5905\n",
              "state_code             8231\n",
              "region                 7714\n",
              "city                   6658\n",
              "funding_rounds            0\n",
              "founded_at            14946\n",
              "first_funding_at         24\n",
              "last_funding_at           0\n",
              "category_tokens           0\n",
              "category_embedding        0\n",
              "dtype: int64"
            ],
            "text/html": [
              "<div>\n",
              "<style scoped>\n",
              "    .dataframe tbody tr th:only-of-type {\n",
              "        vertical-align: middle;\n",
              "    }\n",
              "\n",
              "    .dataframe tbody tr th {\n",
              "        vertical-align: top;\n",
              "    }\n",
              "\n",
              "    .dataframe thead th {\n",
              "        text-align: right;\n",
              "    }\n",
              "</style>\n",
              "<table border=\"1\" class=\"dataframe\">\n",
              "  <thead>\n",
              "    <tr style=\"text-align: right;\">\n",
              "      <th></th>\n",
              "      <th>0</th>\n",
              "    </tr>\n",
              "  </thead>\n",
              "  <tbody>\n",
              "    <tr>\n",
              "      <th>permalink</th>\n",
              "      <td>0</td>\n",
              "    </tr>\n",
              "    <tr>\n",
              "      <th>name</th>\n",
              "      <td>1</td>\n",
              "    </tr>\n",
              "    <tr>\n",
              "      <th>homepage_url</th>\n",
              "      <td>4852</td>\n",
              "    </tr>\n",
              "    <tr>\n",
              "      <th>category_list</th>\n",
              "      <td>0</td>\n",
              "    </tr>\n",
              "    <tr>\n",
              "      <th>funding_total_usd</th>\n",
              "      <td>0</td>\n",
              "    </tr>\n",
              "    <tr>\n",
              "      <th>status</th>\n",
              "      <td>0</td>\n",
              "    </tr>\n",
              "    <tr>\n",
              "      <th>country_code</th>\n",
              "      <td>5905</td>\n",
              "    </tr>\n",
              "    <tr>\n",
              "      <th>state_code</th>\n",
              "      <td>8231</td>\n",
              "    </tr>\n",
              "    <tr>\n",
              "      <th>region</th>\n",
              "      <td>7714</td>\n",
              "    </tr>\n",
              "    <tr>\n",
              "      <th>city</th>\n",
              "      <td>6658</td>\n",
              "    </tr>\n",
              "    <tr>\n",
              "      <th>funding_rounds</th>\n",
              "      <td>0</td>\n",
              "    </tr>\n",
              "    <tr>\n",
              "      <th>founded_at</th>\n",
              "      <td>14946</td>\n",
              "    </tr>\n",
              "    <tr>\n",
              "      <th>first_funding_at</th>\n",
              "      <td>24</td>\n",
              "    </tr>\n",
              "    <tr>\n",
              "      <th>last_funding_at</th>\n",
              "      <td>0</td>\n",
              "    </tr>\n",
              "    <tr>\n",
              "      <th>category_tokens</th>\n",
              "      <td>0</td>\n",
              "    </tr>\n",
              "    <tr>\n",
              "      <th>category_embedding</th>\n",
              "      <td>0</td>\n",
              "    </tr>\n",
              "  </tbody>\n",
              "</table>\n",
              "</div><br><label><b>dtype:</b> int64</label>"
            ]
          },
          "metadata": {},
          "execution_count": 29
        }
      ]
    },
    {
      "cell_type": "code",
      "source": [
        "file_path = \"preprocessed_startupdataset.csv\"\n",
        "df = pd.read_csv(file_path)\n",
        "\n",
        "\n",
        "df_cleaned = df.dropna(subset=['first_funding_at'])\n",
        "\n",
        "df_cleaned.to_csv(\"preprocessed_startupdataset.csv\", index=False)"
      ],
      "metadata": {
        "id": "hNPTaKapODVL"
      },
      "execution_count": null,
      "outputs": []
    },
    {
      "cell_type": "code",
      "source": [
        "df=pd.read_csv(\"preprocessed_startupdataset.csv\")\n",
        "df.isnull().sum()"
      ],
      "metadata": {
        "colab": {
          "base_uri": "https://localhost:8080/",
          "height": 585
        },
        "id": "2UpcTJmhOMJ_",
        "outputId": "78a15683-7103-4123-a2e9-8f018a759536"
      },
      "execution_count": null,
      "outputs": [
        {
          "output_type": "execute_result",
          "data": {
            "text/plain": [
              "permalink                 0\n",
              "name                      1\n",
              "homepage_url           4852\n",
              "category_list             0\n",
              "funding_total_usd         0\n",
              "status                    0\n",
              "country_code           5903\n",
              "state_code             8229\n",
              "region                 7712\n",
              "city                   6656\n",
              "funding_rounds            0\n",
              "founded_at            14943\n",
              "first_funding_at          0\n",
              "last_funding_at           0\n",
              "category_tokens           0\n",
              "category_embedding        0\n",
              "dtype: int64"
            ],
            "text/html": [
              "<div>\n",
              "<style scoped>\n",
              "    .dataframe tbody tr th:only-of-type {\n",
              "        vertical-align: middle;\n",
              "    }\n",
              "\n",
              "    .dataframe tbody tr th {\n",
              "        vertical-align: top;\n",
              "    }\n",
              "\n",
              "    .dataframe thead th {\n",
              "        text-align: right;\n",
              "    }\n",
              "</style>\n",
              "<table border=\"1\" class=\"dataframe\">\n",
              "  <thead>\n",
              "    <tr style=\"text-align: right;\">\n",
              "      <th></th>\n",
              "      <th>0</th>\n",
              "    </tr>\n",
              "  </thead>\n",
              "  <tbody>\n",
              "    <tr>\n",
              "      <th>permalink</th>\n",
              "      <td>0</td>\n",
              "    </tr>\n",
              "    <tr>\n",
              "      <th>name</th>\n",
              "      <td>1</td>\n",
              "    </tr>\n",
              "    <tr>\n",
              "      <th>homepage_url</th>\n",
              "      <td>4852</td>\n",
              "    </tr>\n",
              "    <tr>\n",
              "      <th>category_list</th>\n",
              "      <td>0</td>\n",
              "    </tr>\n",
              "    <tr>\n",
              "      <th>funding_total_usd</th>\n",
              "      <td>0</td>\n",
              "    </tr>\n",
              "    <tr>\n",
              "      <th>status</th>\n",
              "      <td>0</td>\n",
              "    </tr>\n",
              "    <tr>\n",
              "      <th>country_code</th>\n",
              "      <td>5903</td>\n",
              "    </tr>\n",
              "    <tr>\n",
              "      <th>state_code</th>\n",
              "      <td>8229</td>\n",
              "    </tr>\n",
              "    <tr>\n",
              "      <th>region</th>\n",
              "      <td>7712</td>\n",
              "    </tr>\n",
              "    <tr>\n",
              "      <th>city</th>\n",
              "      <td>6656</td>\n",
              "    </tr>\n",
              "    <tr>\n",
              "      <th>funding_rounds</th>\n",
              "      <td>0</td>\n",
              "    </tr>\n",
              "    <tr>\n",
              "      <th>founded_at</th>\n",
              "      <td>14943</td>\n",
              "    </tr>\n",
              "    <tr>\n",
              "      <th>first_funding_at</th>\n",
              "      <td>0</td>\n",
              "    </tr>\n",
              "    <tr>\n",
              "      <th>last_funding_at</th>\n",
              "      <td>0</td>\n",
              "    </tr>\n",
              "    <tr>\n",
              "      <th>category_tokens</th>\n",
              "      <td>0</td>\n",
              "    </tr>\n",
              "    <tr>\n",
              "      <th>category_embedding</th>\n",
              "      <td>0</td>\n",
              "    </tr>\n",
              "  </tbody>\n",
              "</table>\n",
              "</div><br><label><b>dtype:</b> int64</label>"
            ]
          },
          "metadata": {},
          "execution_count": 31
        }
      ]
    },
    {
      "cell_type": "code",
      "source": [
        "file_path = \"preprocessed_startupdataset.csv\"\n",
        "df = pd.read_csv(file_path)\n",
        "\n",
        "\n",
        "df['country_code'].fillna('unknown', inplace=True)\n",
        "\n",
        "\n",
        "df.to_csv(\"preprocessed_startupdataset.csv\", index=False)\n",
        "\n",
        "\n",
        "unknown_count = (df['country_code'] == 'unknown').sum()\n",
        "print(f\"güncelleme tamamlandi,  'unknown' olarak atanan ülke kodu sayısı: {unknown_count}\")\n",
        "print(\"dosya başarıyla güncellendi ve kaydedildi!\")"
      ],
      "metadata": {
        "id": "KZ-360tjORg-"
      },
      "execution_count": null,
      "outputs": []
    },
    {
      "cell_type": "code",
      "source": [
        "df=pd.read_csv(\"preprocessed_startupdataset.csv\")\n",
        "df.isnull().sum()"
      ],
      "metadata": {
        "colab": {
          "base_uri": "https://localhost:8080/",
          "height": 585
        },
        "id": "UOfM3zSDOuDE",
        "outputId": "b2692a45-3d1b-40f1-9878-a2de129d9792"
      },
      "execution_count": null,
      "outputs": [
        {
          "output_type": "execute_result",
          "data": {
            "text/plain": [
              "permalink                 0\n",
              "name                      1\n",
              "homepage_url           4852\n",
              "category_list             0\n",
              "funding_total_usd         0\n",
              "status                    0\n",
              "country_code              0\n",
              "state_code             8229\n",
              "region                 7712\n",
              "city                   6656\n",
              "funding_rounds            0\n",
              "founded_at            14943\n",
              "first_funding_at          0\n",
              "last_funding_at           0\n",
              "category_tokens           0\n",
              "category_embedding        0\n",
              "dtype: int64"
            ],
            "text/html": [
              "<div>\n",
              "<style scoped>\n",
              "    .dataframe tbody tr th:only-of-type {\n",
              "        vertical-align: middle;\n",
              "    }\n",
              "\n",
              "    .dataframe tbody tr th {\n",
              "        vertical-align: top;\n",
              "    }\n",
              "\n",
              "    .dataframe thead th {\n",
              "        text-align: right;\n",
              "    }\n",
              "</style>\n",
              "<table border=\"1\" class=\"dataframe\">\n",
              "  <thead>\n",
              "    <tr style=\"text-align: right;\">\n",
              "      <th></th>\n",
              "      <th>0</th>\n",
              "    </tr>\n",
              "  </thead>\n",
              "  <tbody>\n",
              "    <tr>\n",
              "      <th>permalink</th>\n",
              "      <td>0</td>\n",
              "    </tr>\n",
              "    <tr>\n",
              "      <th>name</th>\n",
              "      <td>1</td>\n",
              "    </tr>\n",
              "    <tr>\n",
              "      <th>homepage_url</th>\n",
              "      <td>4852</td>\n",
              "    </tr>\n",
              "    <tr>\n",
              "      <th>category_list</th>\n",
              "      <td>0</td>\n",
              "    </tr>\n",
              "    <tr>\n",
              "      <th>funding_total_usd</th>\n",
              "      <td>0</td>\n",
              "    </tr>\n",
              "    <tr>\n",
              "      <th>status</th>\n",
              "      <td>0</td>\n",
              "    </tr>\n",
              "    <tr>\n",
              "      <th>country_code</th>\n",
              "      <td>0</td>\n",
              "    </tr>\n",
              "    <tr>\n",
              "      <th>state_code</th>\n",
              "      <td>8229</td>\n",
              "    </tr>\n",
              "    <tr>\n",
              "      <th>region</th>\n",
              "      <td>7712</td>\n",
              "    </tr>\n",
              "    <tr>\n",
              "      <th>city</th>\n",
              "      <td>6656</td>\n",
              "    </tr>\n",
              "    <tr>\n",
              "      <th>funding_rounds</th>\n",
              "      <td>0</td>\n",
              "    </tr>\n",
              "    <tr>\n",
              "      <th>founded_at</th>\n",
              "      <td>14943</td>\n",
              "    </tr>\n",
              "    <tr>\n",
              "      <th>first_funding_at</th>\n",
              "      <td>0</td>\n",
              "    </tr>\n",
              "    <tr>\n",
              "      <th>last_funding_at</th>\n",
              "      <td>0</td>\n",
              "    </tr>\n",
              "    <tr>\n",
              "      <th>category_tokens</th>\n",
              "      <td>0</td>\n",
              "    </tr>\n",
              "    <tr>\n",
              "      <th>category_embedding</th>\n",
              "      <td>0</td>\n",
              "    </tr>\n",
              "  </tbody>\n",
              "</table>\n",
              "</div><br><label><b>dtype:</b> int64</label>"
            ]
          },
          "metadata": {},
          "execution_count": 33
        }
      ]
    },
    {
      "cell_type": "code",
      "source": [
        "original_file = \"preprocessed_startupdataset.csv\"\n",
        "\n",
        "\n",
        "backup_file = \"copy2_preprocessed_startupdataset.csv\"\n",
        "\n",
        "\n",
        "shutil.copy(original_file, backup_file)"
      ],
      "metadata": {
        "colab": {
          "base_uri": "https://localhost:8080/",
          "height": 35
        },
        "id": "JL43LljaPYW5",
        "outputId": "37e9b653-1e97-41b7-dfec-7fc83243b1de"
      },
      "execution_count": null,
      "outputs": [
        {
          "output_type": "execute_result",
          "data": {
            "text/plain": [
              "'copy2_preprocessed_startupdataset.csv'"
            ],
            "application/vnd.google.colaboratory.intrinsic+json": {
              "type": "string"
            }
          },
          "metadata": {},
          "execution_count": 34
        }
      ]
    },
    {
      "cell_type": "code",
      "source": [
        "file_path = \"preprocessed_startupdataset.csv\"\n",
        "df = pd.read_csv(file_path)\n",
        "df['city'].fillna('unknown', inplace=True)\n",
        "\n",
        "\n",
        "df.to_csv(\"preprocessed_startupdataset.csv\", index=False)\n",
        "\n",
        "print(\"eksik şehir bilgileri 'unknown' olarak dolduruldu ve dosya güncellendi!\")"
      ],
      "metadata": {
        "id": "e4GtiD1IPiKT"
      },
      "execution_count": null,
      "outputs": []
    },
    {
      "cell_type": "code",
      "source": [
        "df=pd.read_csv(\"preprocessed_startupdataset.csv\")\n",
        "df.isnull().sum()"
      ],
      "metadata": {
        "colab": {
          "base_uri": "https://localhost:8080/",
          "height": 585
        },
        "id": "Sep6YyptP0vI",
        "outputId": "09acf02f-a209-4676-dba9-54c06d523453"
      },
      "execution_count": null,
      "outputs": [
        {
          "output_type": "execute_result",
          "data": {
            "text/plain": [
              "permalink                 0\n",
              "name                      1\n",
              "homepage_url           4852\n",
              "category_list             0\n",
              "funding_total_usd         0\n",
              "status                    0\n",
              "country_code              0\n",
              "state_code             8229\n",
              "region                 7712\n",
              "city                      0\n",
              "funding_rounds            0\n",
              "founded_at            14943\n",
              "first_funding_at          0\n",
              "last_funding_at           0\n",
              "category_tokens           0\n",
              "category_embedding        0\n",
              "dtype: int64"
            ],
            "text/html": [
              "<div>\n",
              "<style scoped>\n",
              "    .dataframe tbody tr th:only-of-type {\n",
              "        vertical-align: middle;\n",
              "    }\n",
              "\n",
              "    .dataframe tbody tr th {\n",
              "        vertical-align: top;\n",
              "    }\n",
              "\n",
              "    .dataframe thead th {\n",
              "        text-align: right;\n",
              "    }\n",
              "</style>\n",
              "<table border=\"1\" class=\"dataframe\">\n",
              "  <thead>\n",
              "    <tr style=\"text-align: right;\">\n",
              "      <th></th>\n",
              "      <th>0</th>\n",
              "    </tr>\n",
              "  </thead>\n",
              "  <tbody>\n",
              "    <tr>\n",
              "      <th>permalink</th>\n",
              "      <td>0</td>\n",
              "    </tr>\n",
              "    <tr>\n",
              "      <th>name</th>\n",
              "      <td>1</td>\n",
              "    </tr>\n",
              "    <tr>\n",
              "      <th>homepage_url</th>\n",
              "      <td>4852</td>\n",
              "    </tr>\n",
              "    <tr>\n",
              "      <th>category_list</th>\n",
              "      <td>0</td>\n",
              "    </tr>\n",
              "    <tr>\n",
              "      <th>funding_total_usd</th>\n",
              "      <td>0</td>\n",
              "    </tr>\n",
              "    <tr>\n",
              "      <th>status</th>\n",
              "      <td>0</td>\n",
              "    </tr>\n",
              "    <tr>\n",
              "      <th>country_code</th>\n",
              "      <td>0</td>\n",
              "    </tr>\n",
              "    <tr>\n",
              "      <th>state_code</th>\n",
              "      <td>8229</td>\n",
              "    </tr>\n",
              "    <tr>\n",
              "      <th>region</th>\n",
              "      <td>7712</td>\n",
              "    </tr>\n",
              "    <tr>\n",
              "      <th>city</th>\n",
              "      <td>0</td>\n",
              "    </tr>\n",
              "    <tr>\n",
              "      <th>funding_rounds</th>\n",
              "      <td>0</td>\n",
              "    </tr>\n",
              "    <tr>\n",
              "      <th>founded_at</th>\n",
              "      <td>14943</td>\n",
              "    </tr>\n",
              "    <tr>\n",
              "      <th>first_funding_at</th>\n",
              "      <td>0</td>\n",
              "    </tr>\n",
              "    <tr>\n",
              "      <th>last_funding_at</th>\n",
              "      <td>0</td>\n",
              "    </tr>\n",
              "    <tr>\n",
              "      <th>category_tokens</th>\n",
              "      <td>0</td>\n",
              "    </tr>\n",
              "    <tr>\n",
              "      <th>category_embedding</th>\n",
              "      <td>0</td>\n",
              "    </tr>\n",
              "  </tbody>\n",
              "</table>\n",
              "</div><br><label><b>dtype:</b> int64</label>"
            ]
          },
          "metadata": {},
          "execution_count": 36
        }
      ]
    },
    {
      "cell_type": "code",
      "source": [
        "file_path = \"preprocessed_startupdataset.csv\"\n",
        "df = pd.read_csv(file_path)\n",
        "\n",
        "\n",
        "df['first_funding_at'] = pd.to_datetime(df['first_funding_at'], format='%Y-%m-%d', errors='coerce')\n",
        "df['last_funding_at'] = pd.to_datetime(df['last_funding_at'], format='%Y-%m-%d', errors='coerce')\n",
        "\n",
        "\n",
        "df['years_since_first_funding'] = (pd.Timestamp.today() - df['first_funding_at']).dt.days / 365\n",
        "df['years_since_last_funding'] = (pd.Timestamp.today() - df['last_funding_at']).dt.days / 365\n",
        "\n",
        "\n",
        "print(df[['first_funding_at', 'last_funding_at', 'years_since_first_funding', 'years_since_last_funding']].head())\n",
        "\n",
        "df.to_csv(\"preprocessed_startupdataset.csv\", index=False)\n",
        "print(\"dosya güncellendi,  tarih bazlı yıllar eklendi.\")"
      ],
      "metadata": {
        "id": "dlMlY0GGP4DX"
      },
      "execution_count": null,
      "outputs": []
    },
    {
      "cell_type": "code",
      "source": [
        "file_path = \"preprocessed_startupdataset.csv\"\n",
        "df = pd.read_csv(file_path)\n",
        "\n",
        "# funding_rounds sütunundaki minimum ve maksimum değerleri bul\n",
        "min_funding_rounds = df['funding_rounds'].min()\n",
        "max_funding_rounds = df['funding_rounds'].max()\n",
        "\n",
        "\n",
        "print(min_funding_rounds, max_funding_rounds)"
      ],
      "metadata": {
        "colab": {
          "base_uri": "https://localhost:8080/"
        },
        "id": "HjVRyb4oQD-E",
        "outputId": "54f05055-40f1-4040-9856-d3286a4fad21"
      },
      "execution_count": null,
      "outputs": [
        {
          "output_type": "stream",
          "name": "stdout",
          "text": [
            "1 19\n"
          ]
        }
      ]
    },
    {
      "cell_type": "code",
      "source": [
        "file_path = \"preprocessed_startupdataset.csv\"\n",
        "df = pd.read_csv(file_path)\n",
        "\n",
        "\n",
        "min_funding_rounds = df['funding_total_usd'].min()\n",
        "max_funding_rounds = df['funding_total_usd'].max()\n",
        "\n",
        "\n",
        "print(min_funding_rounds, max_funding_rounds)"
      ],
      "metadata": {
        "colab": {
          "base_uri": "https://localhost:8080/"
        },
        "id": "Q3bvADaiQKh1",
        "outputId": "ff6dc15b-af3c-4389-cbd1-22dcaaef7fe3"
      },
      "execution_count": null,
      "outputs": [
        {
          "output_type": "stream",
          "name": "stdout",
          "text": [
            "1.0 30079503000.0\n"
          ]
        }
      ]
    },
    {
      "cell_type": "code",
      "source": [
        "preprocessed_file = \"preprocessed_startupdataset.csv\"\n",
        "model_file = \"formodel_dataset.csv\"\n",
        "\n",
        "#kullanılacak sutun bilgileri\n",
        "selected_columns = [\n",
        "    \"funding_total_usd\",\n",
        "    \"status\",\n",
        "    \"country_code\",\n",
        "    \"city\",\n",
        "    \"funding_rounds\",\n",
        "    \"first_funding_at\",\n",
        "    \"last_funding_at\",\n",
        "    \"category_embedding\"\n",
        "]\n",
        "\n",
        "\n",
        "df_preprocessed = pd.read_csv(preprocessed_file, usecols=selected_columns)\n",
        "\n",
        "\n",
        "df_preprocessed.to_csv(model_file, index=False)\n",
        "\n"
      ],
      "metadata": {
        "id": "Hk-O8WkyQPEw"
      },
      "execution_count": null,
      "outputs": []
    },
    {
      "cell_type": "code",
      "source": [
        "df_model = pd.read_csv(\"formodel_dataset.csv\")\n",
        "\n",
        "\n",
        "print(\"model için seçilen ilk 20 veri:\")\n",
        "print(df_model.head(20))\n",
        "df_model = pd.read_csv(\"formodel_dataset.csv\")\n",
        "\n",
        "\n",
        "print(f\"model veri setinde toplam {df_model.shape[0]} satır bulunmaktadır.\")\n",
        "\n",
        "df_model.isnull().sum()"
      ],
      "metadata": {
        "id": "9Scpc63qQZeW"
      },
      "execution_count": null,
      "outputs": []
    },
    {
      "cell_type": "code",
      "source": [
        "model_file = \"formodel_dataset.csv\"\n",
        "df_model = pd.read_csv(model_file)\n",
        "\n",
        "\n",
        "scaler = StandardScaler()\n",
        "df_model[\"funding_total_usd_z\"] = scaler.fit_transform(df_model[[\"funding_total_usd\"]])\n",
        "\n",
        "\n",
        "print(\"ilk 5 satır (Funding Total USD - Z Skoru uygulanmış):\")\n",
        "print(df_model[[\"funding_total_usd\", \"funding_total_usd_z\"]].head())\n",
        "\n",
        "df_model.to_csv(model_file, index=False)\n",
        "print(f\"z-Skoru uygulandı ve güncellenmiş veri {model_file} olarak kaydedildi.\")"
      ],
      "metadata": {
        "id": "AEcVJc6EQg_X"
      },
      "execution_count": null,
      "outputs": []
    },
    {
      "cell_type": "code",
      "source": [
        "model_file = \"formodel_dataset.csv\"\n",
        "df_model = pd.read_csv(model_file)\n",
        "status_counts = df_model[\"status\"].value_counts()\n",
        "\n",
        "# Status çeşitlerini ve frekanslarını yazdır\n",
        "print(\"✅ Status Kategorileri ve Sayıları:\")\n",
        "print(status_counts)"
      ],
      "metadata": {
        "id": "Ek1uLn2IQr9_"
      },
      "execution_count": null,
      "outputs": []
    },
    {
      "cell_type": "code",
      "source": [
        "model_file = \"formodel_dataset.csv\"\n",
        "df_model = pd.read_csv(model_file)\n",
        "df_model = pd.get_dummies(df_model, columns=['status'], prefix='status')\n",
        "\n",
        "\n",
        "print(\"One-Hot Encoding Sonrası İlk 5 Satır:\")\n",
        "print(df_model.head())\n",
        "\n",
        "df_model.to_csv(model_file, index=False)"
      ],
      "metadata": {
        "colab": {
          "base_uri": "https://localhost:8080/"
        },
        "id": "1ATlTAkAQ28o",
        "outputId": "2b06ac47-2e3f-47ec-f1b6-acc43fa19cfc"
      },
      "execution_count": null,
      "outputs": [
        {
          "output_type": "stream",
          "name": "stdout",
          "text": [
            "✅ One-Hot Encoding Sonrası İlk 5 Satır:\n",
            "   funding_total_usd country_code           city  funding_rounds  \\\n",
            "0         10000000.0           in         Mumbai               1   \n",
            "1           700000.0           us  Delaware City               2   \n",
            "2          3406878.0      unknown        unknown               1   \n",
            "3          2000000.0           cn        Beijing               1   \n",
            "4         35000000.0           us      Champaign               1   \n",
            "\n",
            "  first_funding_at last_funding_at  \\\n",
            "0       2015-01-05      2015-01-05   \n",
            "1       2014-03-01      2014-10-14   \n",
            "2       2014-01-30      2014-01-30   \n",
            "3       2008-03-19      2008-03-19   \n",
            "4       2014-07-24      2014-07-24   \n",
            "\n",
            "                                  category_embedding  funding_total_usd_z  \\\n",
            "0  [ 1.27211273e-01  1.71060279e-01 -8.59424993e-...            -0.045030   \n",
            "1  [-2.50366747e-01 -8.49269554e-02 -1.69406146e-...            -0.097742   \n",
            "2  [ 8.08092859e-03 -2.04934537e-01 -8.56988057e-...            -0.082400   \n",
            "3  [-8.19739886e-03 -1.67219535e-01 -1.21706299e-...            -0.090374   \n",
            "4  [-1.73489526e-02 -2.44770378e-01  1.69297319e-...             0.096670   \n",
            "\n",
            "   status_acquired  status_closed  status_ipo  status_operating  \n",
            "0            False          False       False              True  \n",
            "1            False          False       False              True  \n",
            "2            False          False       False              True  \n",
            "3            False          False       False              True  \n",
            "4            False          False       False              True  \n"
          ]
        }
      ]
    },
    {
      "cell_type": "code",
      "source": [
        "model_file = \"formodel_dataset.csv\"\n",
        "df_model = pd.read_csv(model_file)\n",
        "\n",
        "\n",
        "country_counts = df_model['country_code'].value_counts()\n",
        "\n",
        "\n",
        "print(\"ülke Kodları ve Sayıları:\")\n",
        "print(country_counts.head(20))\n",
        "\n",
        "\n",
        "print(f\"toplam farklı ülke sayısı: {len(country_counts)}\")"
      ],
      "metadata": {
        "id": "-91I6cOZRANV"
      },
      "execution_count": null,
      "outputs": []
    },
    {
      "cell_type": "code",
      "source": [
        "model_file = \"formodel_dataset.csv\"\n",
        "df_model = pd.read_csv(model_file)\n",
        "\n",
        "# LabelEncoder oluşturma\n",
        "country_encoder = LabelEncoder()\n",
        "city_encoder = LabelEncoder()\n",
        "\n",
        "# Country ve City için Label Encoding uygulama\n",
        "df_model[\"country_code_encoded\"] = country_encoder.fit_transform(df_model[\"country_code\"])\n",
        "df_model[\"city_encoded\"] = city_encoder.fit_transform(df_model[\"city\"])\n",
        "\n",
        "\n",
        "print(\"ilk 10 Ülke Kodu (Encoded):\")\n",
        "print(df_model[[\"country_code\", \"country_code_encoded\"]].head(10))\n",
        "\n",
        "print(\"\\n ilk 10 Şehir (Encoded):\")\n",
        "print(df_model[[\"city\", \"city_encoded\"]].head(10))\n",
        "\n",
        "df_model.to_csv(model_file, index=False)"
      ],
      "metadata": {
        "id": "yGB2vFEVRGpT"
      },
      "execution_count": null,
      "outputs": []
    },
    {
      "cell_type": "code",
      "source": [
        "model_file = \"formodel_dataset.csv\"\n",
        "df_model = pd.read_csv(model_file)\n",
        "\n",
        "scaler = MinMaxScaler()\n",
        "df_model[\"funding_rounds_scaled\"] = scaler.fit_transform(df_model[[\"funding_rounds\"]])\n",
        "\n",
        "\n",
        "print(\"ilk 5 satır (Funding Rounds - Min-Max Scale uygulanmış):\")\n",
        "print(df_model[[\"funding_rounds\", \"funding_rounds_scaled\"]].head())\n",
        "\n",
        "df_model.to_csv(model_file, index=False)"
      ],
      "metadata": {
        "colab": {
          "base_uri": "https://localhost:8080/"
        },
        "id": "C-HGDCnLRPGs",
        "outputId": "1ed74c56-c2d5-4dec-c0a1-b13b6d33999f"
      },
      "execution_count": null,
      "outputs": [
        {
          "output_type": "stream",
          "name": "stdout",
          "text": [
            "✅ İlk 5 satır (Funding Rounds - Min-Max Scale uygulanmış):\n",
            "   funding_rounds  funding_rounds_scaled\n",
            "0               1               0.000000\n",
            "1               2               0.055556\n",
            "2               1               0.000000\n",
            "3               1               0.000000\n",
            "4               1               0.000000\n"
          ]
        }
      ]
    },
    {
      "cell_type": "code",
      "source": [
        "file_path = \"formodel_dataset.csv\"\n",
        "df = pd.read_csv(file_path)\n",
        "\n",
        "\n",
        "df['first_funding_at'] = pd.to_datetime(df['first_funding_at'], format='%Y-%m-%d', errors='coerce')\n",
        "df['last_funding_at'] = pd.to_datetime(df['last_funding_at'], format='%Y-%m-%d', errors='coerce')\n",
        "\n",
        "\n",
        "df['years_since_first_funding'] = (pd.Timestamp.today() - df['first_funding_at']).dt.days / 365\n",
        "df['years_since_last_funding'] = (pd.Timestamp.today() - df['last_funding_at']).dt.days / 365\n",
        "\n",
        "\n",
        "print(df[['first_funding_at', 'last_funding_at', 'years_since_first_funding', 'years_since_last_funding']].head())\n",
        "\n",
        "df.to_csv(file_path, index=False)\n",
        "print(\"✅ Dosya güncellendi! Tarih bazlı yıllar eklendi.\")"
      ],
      "metadata": {
        "id": "ie8HM8pKRZSU"
      },
      "execution_count": null,
      "outputs": []
    },
    {
      "cell_type": "code",
      "source": [
        "model_file = \"formodel_dataset.csv\"\n",
        "df_model = pd.read_csv(model_file)\n",
        "\n",
        "\n",
        "scaler = MinMaxScaler()\n",
        "df_model[[\"years_since_first_funding_scaled\", \"years_since_last_funding_scaled\"]] = scaler.fit_transform(\n",
        "    df_model[[\"years_since_first_funding\", \"years_since_last_funding\"]]\n",
        ")\n",
        "\n",
        "\n",
        "print(\"ilk 5 satır (Years Since First/Last Funding - Min-Max Scale uygulanmış):\")\n",
        "print(df_model[[\"years_since_first_funding\", \"years_since_first_funding_scaled\",\n",
        "                \"years_since_last_funding\", \"years_since_last_funding_scaled\"]].head())\n",
        "df_model.to_csv(model_file, index=False)"
      ],
      "metadata": {
        "id": "wSSEqWikRsW3"
      },
      "execution_count": null,
      "outputs": []
    },
    {
      "cell_type": "code",
      "source": [
        "\n",
        "shutil.copy(\"formodel_dataset.csv\", \"/content/drive/My Drive/formodel_dataset.csv\")\n",
        "print(\"Dosya başarıyla Google Drive'a kaydedildi!\")"
      ],
      "metadata": {
        "id": "wNEOx6vSR2pQ"
      },
      "execution_count": null,
      "outputs": []
    },
    {
      "cell_type": "code",
      "source": [
        "shutil.copy(\"preprocessed_startupdataset.csv\", \"/content/drive/My Drive/preprocessed_startupdataset.csv\")\n",
        "print(\"dosya başarıyla Google Drive'a kaydedildi!\")\n",
        "\n",
        "shutil.copy(\"updated_startupdataset.csv\", \"/content/drive/My Drive/updated_startupdataset.csv\")\n",
        "print(\"dosya başarıyla Google Drive'a kaydedildi!\")\n"
      ],
      "metadata": {
        "colab": {
          "base_uri": "https://localhost:8080/"
        },
        "id": "QFT5CZ_oUj0Z",
        "outputId": "1a759fa0-bb8c-495e-88a8-edeaa9504736",
        "collapsed": true
      },
      "execution_count": null,
      "outputs": [
        {
          "output_type": "stream",
          "name": "stdout",
          "text": [
            "✅ Dosya başarıyla Google Drive'a kaydedildi!\n",
            "✅ Dosya başarıyla Google Drive'a kaydedildi!\n"
          ]
        }
      ]
    },
    {
      "cell_type": "code",
      "source": [
        "model_file = \"formodel_dataset.csv\"\n",
        "df_model = pd.read_csv(model_file)\n",
        "\n",
        "# kaldırılacak sütunları tanımlama**\n",
        "columns_to_drop = [\n",
        "    \"funding_total_usd\",\n",
        "    \"country_code\",\n",
        "    \"city\",\n",
        "    \"funding_rounds\",\n",
        "    \"first_funding_at\",\n",
        "    \"last_funding_at\",\n",
        "    \"years_since_first_funding\",\n",
        "    \"years_since_last_funding\"\n",
        "]\n",
        "\n",
        "\n",
        "df_model = df_model.drop(columns=columns_to_drop)\n",
        "\n",
        "\n",
        "df_model.to_csv(\"formodel_csv.csv\", index=False)\n",
        "\n"
      ],
      "metadata": {
        "id": "RthtRDENU_zh"
      },
      "execution_count": null,
      "outputs": []
    },
    {
      "cell_type": "code",
      "source": [
        "df=pd.read_csv(\"formodel_csv.csv\")\n",
        "df.isnull().sum()"
      ],
      "metadata": {
        "colab": {
          "base_uri": "https://localhost:8080/",
          "height": 429
        },
        "id": "o7ziK-2MViGa",
        "outputId": "e61383b2-7054-4dc7-decd-84ab33e1d788"
      },
      "execution_count": null,
      "outputs": [
        {
          "output_type": "execute_result",
          "data": {
            "text/plain": [
              "category_embedding                  0\n",
              "funding_total_usd_z                 0\n",
              "status_acquired                     0\n",
              "status_closed                       0\n",
              "status_ipo                          0\n",
              "status_operating                    0\n",
              "country_code_encoded                0\n",
              "city_encoded                        0\n",
              "funding_rounds_scaled               0\n",
              "years_since_first_funding_scaled    3\n",
              "years_since_last_funding_scaled     0\n",
              "dtype: int64"
            ],
            "text/html": [
              "<div>\n",
              "<style scoped>\n",
              "    .dataframe tbody tr th:only-of-type {\n",
              "        vertical-align: middle;\n",
              "    }\n",
              "\n",
              "    .dataframe tbody tr th {\n",
              "        vertical-align: top;\n",
              "    }\n",
              "\n",
              "    .dataframe thead th {\n",
              "        text-align: right;\n",
              "    }\n",
              "</style>\n",
              "<table border=\"1\" class=\"dataframe\">\n",
              "  <thead>\n",
              "    <tr style=\"text-align: right;\">\n",
              "      <th></th>\n",
              "      <th>0</th>\n",
              "    </tr>\n",
              "  </thead>\n",
              "  <tbody>\n",
              "    <tr>\n",
              "      <th>category_embedding</th>\n",
              "      <td>0</td>\n",
              "    </tr>\n",
              "    <tr>\n",
              "      <th>funding_total_usd_z</th>\n",
              "      <td>0</td>\n",
              "    </tr>\n",
              "    <tr>\n",
              "      <th>status_acquired</th>\n",
              "      <td>0</td>\n",
              "    </tr>\n",
              "    <tr>\n",
              "      <th>status_closed</th>\n",
              "      <td>0</td>\n",
              "    </tr>\n",
              "    <tr>\n",
              "      <th>status_ipo</th>\n",
              "      <td>0</td>\n",
              "    </tr>\n",
              "    <tr>\n",
              "      <th>status_operating</th>\n",
              "      <td>0</td>\n",
              "    </tr>\n",
              "    <tr>\n",
              "      <th>country_code_encoded</th>\n",
              "      <td>0</td>\n",
              "    </tr>\n",
              "    <tr>\n",
              "      <th>city_encoded</th>\n",
              "      <td>0</td>\n",
              "    </tr>\n",
              "    <tr>\n",
              "      <th>funding_rounds_scaled</th>\n",
              "      <td>0</td>\n",
              "    </tr>\n",
              "    <tr>\n",
              "      <th>years_since_first_funding_scaled</th>\n",
              "      <td>3</td>\n",
              "    </tr>\n",
              "    <tr>\n",
              "      <th>years_since_last_funding_scaled</th>\n",
              "      <td>0</td>\n",
              "    </tr>\n",
              "  </tbody>\n",
              "</table>\n",
              "</div><br><label><b>dtype:</b> int64</label>"
            ]
          },
          "metadata": {},
          "execution_count": 87
        }
      ]
    },
    {
      "cell_type": "code",
      "source": [
        "file_path = \"formodel_csv.csv\"\n",
        "df = pd.read_csv(file_path)\n",
        "\n",
        "\n",
        "status_columns = [\"status_operating\", \"status_closed\", \"status_acquired\", \"status_ipo\"]\n",
        "\n",
        "# her sınıf için ağırlıklar\n",
        "class_weights = {}\n",
        "for col in status_columns:\n",
        "    class_weights[col] = compute_class_weight(\n",
        "        class_weight=\"balanced\",\n",
        "        classes=np.unique(df[col]),\n",
        "        y=df[col]\n",
        "    )\n",
        "\n",
        "for col, weights in class_weights.items():\n",
        "    print(f\" {col} sınıf ağırlıkları: {dict(zip(np.unique(df[col]), weights))}\")"
      ],
      "metadata": {
        "id": "WnxPuf-L3xf-"
      },
      "execution_count": null,
      "outputs": []
    },
    {
      "cell_type": "code",
      "source": [
        "df = pd.read_csv(\"formodel_csv.csv\")\n",
        "print(\"ilk 5 veri:\")\n",
        "print(df.head())"
      ],
      "metadata": {
        "id": "G70I_yeDDzfD"
      },
      "execution_count": null,
      "outputs": []
    },
    {
      "cell_type": "code",
      "source": [
        "\n",
        "\n",
        "\n",
        "df = pd.read_csv(\"formodel_csv.csv\")\n",
        "\n",
        "\n",
        "def convert_embedding(x):\n",
        "    try:\n",
        "        return np.array(ast.literal_eval(x), dtype=np.float32)  # stringi float array'e çevir\n",
        "    except:\n",
        "        return np.nan\n",
        "\n",
        "df[\"category_embedding\"] = df[\"category_embedding\"].astype(str).apply(convert_embedding)\n",
        "\n",
        "# eksik category_embedding'leri Ortalama ile Doldur\n",
        "valid_embeddings = df[\"category_embedding\"].dropna().values\n",
        "if len(valid_embeddings) > 0:\n",
        "    valid_embeddings = np.stack(valid_embeddings)\n",
        "    mean_embedding = np.mean(valid_embeddings, axis=0)  # ortalama embedding hesapla\n",
        "else:\n",
        "    mean_embedding = np.zeros(100)\n",
        "\n",
        "df[\"category_embedding\"] = df[\"category_embedding\"].apply(lambda x: mean_embedding if isinstance(x, float) else x)\n",
        "\n",
        "# 📌 category_embedding'i Ayrı Sütunlara Ayır (XGBoost İçin)\n",
        "embedding_dim = len(mean_embedding)\n",
        "embedding_cols = [f\"embed_{i}\" for i in range(embedding_dim)]\n",
        "\n",
        "embedding_df = pd.DataFrame(df[\"category_embedding\"].tolist(), columns=embedding_cols)\n",
        "df = df.drop(columns=[\"category_embedding\"])\n",
        "df = pd.concat([df, embedding_df], axis=1)\n",
        "\n",
        "\n",
        "X = df.drop(columns=[\"status_acquired\", \"status_closed\", \"status_ipo\", \"status_operating\"])  # Hedef değişkenleri çıkar\n",
        "y = df[[\"status_acquired\", \"status_closed\", \"status_ipo\", \"status_operating\"]].values  # Çok sınıflı hedef değişken\n",
        "\n",
        "\n",
        "X_train, X_test, y_train, y_test = train_test_split(X, y, test_size=0.15, random_state=42, stratify=np.argmax(y, axis=1))\n",
        "\n",
        "\n",
        "unique_classes = np.array([0, 1, 2, 3])\n",
        "y_train_labels = np.argmax(y_train, axis=1)\n",
        "class_weights = compute_class_weight(\"balanced\", classes=unique_classes, y=y_train_labels)\n",
        "class_weight_dict = {i: class_weights[i] for i in range(len(class_weights))}\n",
        "\n",
        "model = XGBClassifier(n_estimators=100, objective=\"multi:softmax\", num_class=4, random_state=42)\n",
        "model.fit(X_train, y_train_labels, sample_weight=np.array([class_weight_dict[i] for i in y_train_labels]))\n",
        "\n",
        "\n",
        "\n",
        "print(\"model başarıyla eğitildi, Test Sonuçları:\", model.score(X_test, np.argmax(y_test, axis=1)))\n",
        "\n"
      ],
      "metadata": {
        "colab": {
          "base_uri": "https://localhost:8080/"
        },
        "id": "H2HNNzEt6Bo-",
        "outputId": "3641a83e-a9ad-42be-ee93-703f9d897f4e"
      },
      "execution_count": null,
      "outputs": [
        {
          "output_type": "stream",
          "name": "stdout",
          "text": [
            "✅ Model başarıyla eğitildi! Test Sonuçları: 0.5871150729335495\n"
          ]
        }
      ]
    },
    {
      "cell_type": "code",
      "source": [
        "y_pred = model.predict(X_test)\n",
        "\n",
        "\n",
        "print(\"Classification Report:\")\n",
        "print(classification_report(np.argmax(y_test, axis=1), y_pred))\n",
        "\n",
        "\n",
        "print(\" Confusion Matrix:\")\n",
        "print(confusion_matrix(np.argmax(y_test, axis=1), y_pred))"
      ],
      "metadata": {
        "colab": {
          "base_uri": "https://localhost:8080/"
        },
        "id": "SGKt73CqHHbk",
        "outputId": "53f9ad46-cf6b-4ed8-e563-485cb0d7d458"
      },
      "execution_count": null,
      "outputs": [
        {
          "output_type": "stream",
          "name": "stdout",
          "text": [
            "📊 **Classification Report:**\n",
            "              precision    recall  f1-score   support\n",
            "\n",
            "           0       0.26      0.56      0.35       830\n",
            "           1       0.23      0.51      0.32       905\n",
            "           2       0.10      0.41      0.17       232\n",
            "           3       0.93      0.60      0.73      7905\n",
            "\n",
            "    accuracy                           0.59      9872\n",
            "   macro avg       0.38      0.52      0.39      9872\n",
            "weighted avg       0.79      0.59      0.65      9872\n",
            "\n",
            "📊 **Confusion Matrix:**\n",
            "[[ 461  162   85  122]\n",
            " [ 225  466   46  168]\n",
            " [  67   12   96   57]\n",
            " [1045 1385  702 4773]]\n"
          ]
        }
      ]
    },
    {
      "cell_type": "code",
      "source": [
        "import xgboost\n",
        "print(xgboost.__version__)"
      ],
      "metadata": {
        "colab": {
          "base_uri": "https://localhost:8080/"
        },
        "id": "IEJLMHqeXJa6",
        "outputId": "bb2ea5a8-ffca-4d2e-aa95-aeca7ad4ce07"
      },
      "execution_count": null,
      "outputs": [
        {
          "output_type": "stream",
          "name": "stdout",
          "text": [
            "2.1.3\n"
          ]
        }
      ]
    },
    {
      "cell_type": "code",
      "source": [
        "!pip install -U xgboost"
      ],
      "metadata": {
        "colab": {
          "base_uri": "https://localhost:8080/"
        },
        "id": "rXbMfMTwXN5Q",
        "outputId": "26089c12-b185-49d7-b8eb-f32731e83953"
      },
      "execution_count": null,
      "outputs": [
        {
          "output_type": "stream",
          "name": "stdout",
          "text": [
            "Requirement already satisfied: xgboost in /usr/local/lib/python3.11/dist-packages (2.1.3)\n",
            "Collecting xgboost\n",
            "  Downloading xgboost-2.1.4-py3-none-manylinux_2_28_x86_64.whl.metadata (2.1 kB)\n",
            "Requirement already satisfied: numpy in /usr/local/lib/python3.11/dist-packages (from xgboost) (1.26.4)\n",
            "Requirement already satisfied: nvidia-nccl-cu12 in /usr/local/lib/python3.11/dist-packages (from xgboost) (2.21.5)\n",
            "Requirement already satisfied: scipy in /usr/local/lib/python3.11/dist-packages (from xgboost) (1.13.1)\n",
            "Downloading xgboost-2.1.4-py3-none-manylinux_2_28_x86_64.whl (223.6 MB)\n",
            "\u001b[2K   \u001b[90m━━━━━━━━━━━━━━━━━━━━━━━━━━━━━━━━━━━━━━━━\u001b[0m \u001b[32m223.6/223.6 MB\u001b[0m \u001b[31m10.2 MB/s\u001b[0m eta \u001b[36m0:00:00\u001b[0m\n",
            "\u001b[?25hInstalling collected packages: xgboost\n",
            "  Attempting uninstall: xgboost\n",
            "    Found existing installation: xgboost 2.1.3\n",
            "    Uninstalling xgboost-2.1.3:\n",
            "      Successfully uninstalled xgboost-2.1.3\n",
            "Successfully installed xgboost-2.1.4\n"
          ]
        }
      ]
    },
    {
      "cell_type": "code",
      "source": [
        "df = pd.read_csv(\"formodel_csv.csv\")\n",
        "\n",
        "\n",
        "def convert_embedding(x):\n",
        "    try:\n",
        "        return np.array(ast.literal_eval(x), dtype=np.float32)\n",
        "    except:\n",
        "        return np.nan\n",
        "\n",
        "df[\"category_embedding\"] = df[\"category_embedding\"].astype(str).apply(convert_embedding)\n",
        "\n",
        "\n",
        "valid_embeddings = df[\"category_embedding\"].dropna().values\n",
        "if len(valid_embeddings) > 0:\n",
        "    valid_embeddings = np.stack(valid_embeddings)\n",
        "    mean_embedding = np.mean(valid_embeddings, axis=0)\n",
        "else:\n",
        "    mean_embedding = np.zeros(100)\n",
        "\n",
        "df[\"category_embedding\"] = df[\"category_embedding\"].apply(lambda x: mean_embedding if isinstance(x, float) else x)\n",
        "\n",
        "\n",
        "embedding_dim = len(mean_embedding)\n",
        "embedding_cols = [f\"embed_{i}\" for i in range(embedding_dim)]\n",
        "\n",
        "embedding_df = pd.DataFrame(df[\"category_embedding\"].tolist(), columns=embedding_cols)\n",
        "df = df.drop(columns=[\"category_embedding\"])\n",
        "df = pd.concat([df, embedding_df], axis=1)\n",
        "\n",
        "\n",
        "X = df.drop(columns=[\"status_acquired\", \"status_closed\", \"status_ipo\", \"status_operating\"])\n",
        "y = df[[\"status_acquired\", \"status_closed\", \"status_ipo\", \"status_operating\"]].values\n",
        "\n",
        "\n",
        "X_train, X_temp, y_train, y_temp = train_test_split(X, y, test_size=0.30, random_state=42, stratify=np.argmax(y, axis=1))\n",
        "X_val, X_test, y_val, y_test = train_test_split(X_temp, y_temp, test_size=0.50, random_state=42, stratify=np.argmax(y_temp, axis=1))\n",
        "\n",
        "print(f\"Eğitim Seti Boyutu: {len(X_train)}\")\n",
        "print(f\"Doğrulama  Seti Boyutu: {len(X_val)}\")\n",
        "print(f\"Test Seti Boyutu: {len(X_test)}\")\n",
        "\n",
        "\n",
        "unique_classes = np.array([0, 1, 2, 3])\n",
        "y_train_labels = np.argmax(y_train, axis=1)\n",
        "class_weights = compute_class_weight(\"balanced\", classes=unique_classes, y=y_train_labels)\n",
        "\n",
        "\n",
        "class_weights[0] *= 1.20\n",
        "class_weights[1] *= 1.50\n",
        "class_weights[2] *= 1.15\n",
        "class_weights[3] *= 0.90\n",
        "\n",
        "class_weight_dict = {i: class_weights[i] for i in range(len(class_weights))}\n",
        "\n",
        "\n",
        "model = XGBClassifier(\n",
        "    n_estimators=541,\n",
        "    objective=\"multi:softmax\",\n",
        "    num_class=4,\n",
        "    early_stopping_rounds = 10,\n",
        "    random_state=42\n",
        "\n",
        ")\n",
        "\n",
        "\n",
        "\n",
        "model.fit(\n",
        "    X_train,\n",
        "    y_train_labels,\n",
        "    eval_set=[(X_val, np.argmax(y_val, axis=1))],\n",
        "    verbose=True,\n",
        "    sample_weight=np.array([class_weight_dict[i] for i in y_train_labels])\n",
        ")\n",
        "\n",
        "\n",
        "results = model.evals_result()\n",
        "print(results)\n",
        "\n",
        "print(\" Model başarıyla eğitildi, Test Sonuçları:\", model.score(X_test, np.argmax(y_test, axis=1)))\n",
        "\n",
        "y_pred = model.predict(X_test)\n",
        "\n",
        "\n",
        "accuracy = accuracy_score(np.argmax(y_test, axis=1), y_pred)\n",
        "print(f\" Model Accuracy (Doğruluk): {accuracy:.4f}\")\n",
        "\n",
        "\n",
        "report = classification_report(np.argmax(y_test, axis=1), y_pred, digits=4)\n",
        "print(\" **Classification Report:**\")\n",
        "print(report)\n",
        "\n",
        "\n",
        "conf_matrix = confusion_matrix(np.argmax(y_test, axis=1), y_pred)\n",
        "print(\" **Confusion Matrix:**\")\n",
        "print(conf_matrix)\n",
        "\n",
        "\n",
        "macro_f1 = f1_score(np.argmax(y_test, axis=1), y_pred, average=\"macro\")\n",
        "print(f\" Macro F1-Score: {macro_f1:.4f}\")\n",
        "\n",
        "y_prob = model.predict_proba(X_test)\n",
        "\n",
        "\n",
        "roc_auc = roc_auc_score(y_test, y_prob, multi_class=\"ovr\")\n",
        "print(f\" ROC-AUC Score: {roc_auc:.4f}\")\n",
        "\n"
      ],
      "metadata": {
        "id": "2bFGuCFvVdO5"
      },
      "execution_count": null,
      "outputs": []
    },
    {
      "cell_type": "markdown",
      "source": [
        "\n",
        "\n",
        "Model başarıyla eğitildi Test Sonuçları: 0.6400931928687196\n",
        " Model Accuracy (Doğruluk): 0.6401\n",
        " **Classification Report:**\n",
        "              precision    recall  f1-score   support\n",
        "\n",
        "           0     0.2456    0.4717    0.3230       831\n",
        "           1     0.2128    0.4316    0.2851       906\n",
        "           2     0.1263    0.1558    0.1395       231\n",
        "           3     0.8937    0.6959    0.7825      7904\n",
        "\n",
        "    accuracy                         0.6401      9872\n",
        "   macro avg     0.3696    0.4387    0.3825      9872\n",
        "weighted avg     0.7587    0.6401    0.6831      9872\n",
        "\n",
        "Confusion Matrix:\n",
        "[[ 392  175   29  235]\n",
        " [ 203  391   16  296]\n",
        " [  50   22   36  123]\n",
        " [ 951 1249  204 5500]]\n",
        "Macro F1-Score: 0.3825\n",
        "ROC-AUC Score: 0.7665"
      ],
      "metadata": {
        "id": "fF8ApzBQtN5Z"
      }
    },
    {
      "cell_type": "code",
      "source": [],
      "metadata": {
        "id": "ERtpmJZetMZy"
      },
      "execution_count": null,
      "outputs": []
    }
  ]
}